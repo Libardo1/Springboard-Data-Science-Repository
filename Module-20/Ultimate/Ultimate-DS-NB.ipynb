{
 "cells": [
  {
   "cell_type": "markdown",
   "metadata": {},
   "source": [
    "# Ultimate Inc. Data Science Challenge\n",
    "## DS Notebook"
   ]
  },
  {
   "cell_type": "markdown",
   "metadata": {},
   "source": [
    "### Import libraries and modify notebook settings"
   ]
  },
  {
   "cell_type": "code",
   "execution_count": 1,
   "metadata": {},
   "outputs": [
    {
     "name": "stderr",
     "output_type": "stream",
     "text": [
      "/anaconda/lib/python3.6/site-packages/sklearn/cross_validation.py:41: DeprecationWarning: This module was deprecated in version 0.18 in favor of the model_selection module into which all the refactored classes and functions are moved. Also note that the interface of the new CV iterators are different from that of this module. This module will be removed in 0.20.\n",
      "  \"This module will be removed in 0.20.\", DeprecationWarning)\n"
     ]
    }
   ],
   "source": [
    "# Import libraries\n",
    "import os\n",
    "import json\n",
    "import numpy as np\n",
    "import pandas as pd\n",
    "import matplotlib.pyplot as plt\n",
    "import seaborn as sns\n",
    "from mpl_toolkits.mplot3d import Axes3D\n",
    "from sklearn.metrics import accuracy_score\n",
    "from sklearn.metrics import roc_auc_score\n",
    "from sklearn.metrics import confusion_matrix\n",
    "from sklearn.model_selection import train_test_split\n",
    "from sklearn.model_selection import cross_val_score\n",
    "from sklearn.model_selection import GridSearchCV\n",
    "from sklearn.pipeline import Pipeline\n",
    "from xgboost.sklearn import XGBClassifier\n",
    "\n",
    "# Modify notebook settings\n",
    "%matplotlib inline\n",
    "sns.set(style=\"whitegrid\")\n",
    "pd.options.display.max_columns = 100\n",
    "pd.options.display.max_rows = 150"
   ]
  },
  {
   "cell_type": "markdown",
   "metadata": {},
   "source": [
    "### Create paths to data folders and files"
   ]
  },
  {
   "cell_type": "code",
   "execution_count": 2,
   "metadata": {
    "collapsed": true
   },
   "outputs": [],
   "source": [
    "proj_root = os.path.join(os.curdir)\n",
    "\n",
    "data_dir = os.path.join(proj_root, 'ultimate_challenge')\n",
    "\n",
    "filepath_logins = os.path.join(data_dir, 'logins.json')\n",
    "\n",
    "filepath_ultimate = os.path.join(data_dir,\n",
    "                                 'ultimate_data_challenge.json')\n"
   ]
  },
  {
   "cell_type": "markdown",
   "metadata": {},
   "source": [
    "### Read in raw data"
   ]
  },
  {
   "cell_type": "code",
   "execution_count": 3,
   "metadata": {
    "collapsed": true
   },
   "outputs": [],
   "source": [
    "df_logins = pd.read_json(filepath_logins)\n",
    "\n",
    "#df_ultimate = pd.read_json(filepath_ultimate)\n",
    "data_ultimate = open(filepath_ultimate, 'r').readline()\n",
    "data_ultimate = json.loads(data_ultimate)\n",
    "df_ultimate = pd.DataFrame(data_ultimate)"
   ]
  },
  {
   "cell_type": "markdown",
   "metadata": {},
   "source": [
    "### Part 1 ‐ Exploratory data analysis"
   ]
  },
  {
   "cell_type": "markdown",
   "metadata": {},
   "source": [
    "The attached `logins.json` file contains (simulated) timestamps of user logins in a particular geographic location. \n",
    "\n",
    "Aggregate these login counts based on 15-minute time intervals, and visualize and describe the resulting time series of login counts in ways that best characterize the underlying patterns of the demand. \n",
    "\n",
    "Please report/illustrate important features of the demand, such as daily cycles. If there are data quality issues, please report them."
   ]
  },
  {
   "cell_type": "code",
   "execution_count": 4,
   "metadata": {},
   "outputs": [
    {
     "data": {
      "text/plain": [
       "(93142, 1)"
      ]
     },
     "execution_count": 4,
     "metadata": {},
     "output_type": "execute_result"
    }
   ],
   "source": [
    "df_logins.shape"
   ]
  },
  {
   "cell_type": "code",
   "execution_count": 5,
   "metadata": {},
   "outputs": [
    {
     "data": {
      "text/html": [
       "<div>\n",
       "<style>\n",
       "    .dataframe thead tr:only-child th {\n",
       "        text-align: right;\n",
       "    }\n",
       "\n",
       "    .dataframe thead th {\n",
       "        text-align: left;\n",
       "    }\n",
       "\n",
       "    .dataframe tbody tr th {\n",
       "        vertical-align: top;\n",
       "    }\n",
       "</style>\n",
       "<table border=\"1\" class=\"dataframe\">\n",
       "  <thead>\n",
       "    <tr style=\"text-align: right;\">\n",
       "      <th></th>\n",
       "      <th>login_time</th>\n",
       "    </tr>\n",
       "  </thead>\n",
       "  <tbody>\n",
       "    <tr>\n",
       "      <th>0</th>\n",
       "      <td>1970-01-01 20:13:18</td>\n",
       "    </tr>\n",
       "    <tr>\n",
       "      <th>1</th>\n",
       "      <td>1970-01-01 20:16:10</td>\n",
       "    </tr>\n",
       "    <tr>\n",
       "      <th>2</th>\n",
       "      <td>1970-01-01 20:16:37</td>\n",
       "    </tr>\n",
       "  </tbody>\n",
       "</table>\n",
       "</div>"
      ],
      "text/plain": [
       "           login_time\n",
       "0 1970-01-01 20:13:18\n",
       "1 1970-01-01 20:16:10\n",
       "2 1970-01-01 20:16:37"
      ]
     },
     "execution_count": 5,
     "metadata": {},
     "output_type": "execute_result"
    }
   ],
   "source": [
    "df_logins.head(3)"
   ]
  },
  {
   "cell_type": "markdown",
   "metadata": {},
   "source": [
    "Are there any null values?"
   ]
  },
  {
   "cell_type": "code",
   "execution_count": 6,
   "metadata": {},
   "outputs": [
    {
     "data": {
      "text/plain": [
       "login_time    0\n",
       "dtype: int64"
      ]
     },
     "execution_count": 6,
     "metadata": {},
     "output_type": "execute_result"
    }
   ],
   "source": [
    "df_logins.isnull().sum()"
   ]
  },
  {
   "cell_type": "markdown",
   "metadata": {},
   "source": [
    "No, the series does not contain any null values."
   ]
  },
  {
   "cell_type": "markdown",
   "metadata": {},
   "source": [
    "Is the series in chronological order?"
   ]
  },
  {
   "cell_type": "code",
   "execution_count": 7,
   "metadata": {},
   "outputs": [
    {
     "data": {
      "text/plain": [
       "False"
      ]
     },
     "execution_count": 7,
     "metadata": {},
     "output_type": "execute_result"
    }
   ],
   "source": [
    "df_logins.equals(df_logins.sort_values('login_time'))"
   ]
  },
  {
   "cell_type": "markdown",
   "metadata": {},
   "source": [
    "No.  We will sort the series so that it is in chronological order."
   ]
  },
  {
   "cell_type": "code",
   "execution_count": 8,
   "metadata": {
    "collapsed": true
   },
   "outputs": [],
   "source": [
    "df_logins.sort_values('login_time', inplace=True)"
   ]
  },
  {
   "cell_type": "markdown",
   "metadata": {},
   "source": [
    "#### Aggregate these login counts based on 15-minute time intervals,"
   ]
  },
  {
   "cell_type": "code",
   "execution_count": 9,
   "metadata": {
    "collapsed": true
   },
   "outputs": [],
   "source": [
    "df_grouped_logins = (df_logins.groupby(pd.Grouper(key='login_time',\n",
    "                                                  freq='15Min'))\\\n",
    "                     ['login_time'].count())\n",
    "\n",
    "df_grouped_logins = df_grouped_logins.to_frame()\n",
    "\n",
    "df_grouped_logins.rename(columns={'login_time': 'Login Count'},\n",
    "                         inplace=True)\n",
    "\n",
    "df_grouped_logins.index.name = 'Login Bin (15 Minutes)'"
   ]
  },
  {
   "cell_type": "markdown",
   "metadata": {},
   "source": [
    "Visualize and describe the resulting time series of login counts in ways that best characterize the underlying patterns of the demand. "
   ]
  },
  {
   "cell_type": "code",
   "execution_count": 10,
   "metadata": {
    "collapsed": true
   },
   "outputs": [],
   "source": [
    "one_day = int((24 * 60) / 15)\n",
    "one_week = 7 * one_day"
   ]
  },
  {
   "cell_type": "code",
   "execution_count": 11,
   "metadata": {},
   "outputs": [
    {
     "name": "stdout",
     "output_type": "stream",
     "text": [
      "one_day:   96  periods\n",
      "one_week:  672 periods\n"
     ]
    }
   ],
   "source": [
    "print('one_day:   {}  periods'.format(one_day))\n",
    "print('one_week:  {} periods'.format(one_week))"
   ]
  },
  {
   "cell_type": "code",
   "execution_count": 12,
   "metadata": {
    "collapsed": true
   },
   "outputs": [],
   "source": [
    "df_grouped_logins['Login Count MA (1 Day)'] = \\\n",
    "df_grouped_logins.rolling(window=one_day)['Login Count'].mean()\n",
    "\n",
    "df_grouped_logins['Login Count MA (1 Week)'] = \\\n",
    "df_grouped_logins.rolling(window=one_week)['Login Count'].mean()"
   ]
  },
  {
   "cell_type": "markdown",
   "metadata": {},
   "source": [
    "#### Plot the time series of login count based on 15-minute time intervals"
   ]
  },
  {
   "cell_type": "markdown",
   "metadata": {},
   "source": [
    "\n",
    "\n"
   ]
  },
  {
   "cell_type": "markdown",
   "metadata": {},
   "source": [
    "'Login Count MA (1 Day)'\n",
    "\n",
    "'Login Count MA (1 Week)'"
   ]
  },
  {
   "cell_type": "code",
   "execution_count": 13,
   "metadata": {},
   "outputs": [
    {
     "data": {
      "image/png": "[encoded data removed]",
      "text/plain": [
       "<matplotlib.figure.Figure at 0x10c9f16a0>"
      ]
     },
     "metadata": {},
     "output_type": "display_data"
    }
   ],
   "source": [
    "fig, ax = plt.subplots()\n",
    "\n",
    "df_grouped_logins['Login Count'].\\\n",
    "plot(figsize=(10, 6), color='k', alpha=0.15, ax=ax)\n",
    "\n",
    "df_grouped_logins['Login Count MA (1 Day)'].\\\n",
    "plot(figsize=(10, 6), color='b', alpha=0.7, ax=ax)\n",
    "\n",
    "df_grouped_logins['Login Count MA (1 Week)'].\\\n",
    "plot(figsize=(10, 6), color='r', alpha=1, ax=ax)\n",
    "\n",
    "ax.set_ylim(bottom=0)\n",
    "ax.set_xlim(left=pd.Timestamp(df_grouped_logins.index[0].date()))\n",
    "\n",
    "# Highlight weekends\n",
    "weekends = df_grouped_logins[df_grouped_logins.\\\n",
    "                             index.dayofweek >= 5].index\n",
    "\n",
    "delta = df_grouped_logins.index[1] - df_grouped_logins.index[0]\n",
    "\n",
    "for i in range(len(weekends)-1):\n",
    "     ax.axvspan(weekends[i], weekends[i] + delta, \n",
    "                facecolor='blue', edgecolor='none', alpha=.1)\n",
    "\n",
    "legend = ax.legend(loc='upper left', frameon=True)\n",
    "frame = legend.get_frame()\n",
    "frame.set_facecolor('w')\n",
    "frame.set_edgecolor('k')\n",
    "\n",
    "# Save the figure\n",
    "plt.savefig('login_counts_time_series', dpi = 300,\n",
    "            bbox_inches='tight')"
   ]
  },
  {
   "cell_type": "markdown",
   "metadata": {},
   "source": [
    "#### Create boxplot of daily login counts"
   ]
  },
  {
   "cell_type": "code",
   "execution_count": 14,
   "metadata": {
    "collapsed": true
   },
   "outputs": [],
   "source": [
    "df_grouped_logins_1D = (df_logins.groupby(pd.Grouper(key='login_time',\n",
    "                                                     freq='1D'))\\\n",
    "                        ['login_time'].count())\n",
    "\n",
    "df_grouped_logins_1D = df_grouped_logins_1D.to_frame()\n",
    "\n",
    "df_grouped_logins_1D.rename(columns={'login_time': 'Login Count (Daily)'},\n",
    "                         inplace=True)\n",
    "\n",
    "df_grouped_logins_1D.index.name = 'Login Bin (1 Day)'\n",
    "\n",
    "df_grouped_logins_1D['Day'] = (df_grouped_logins_1D.index.weekday_name)"
   ]
  },
  {
   "cell_type": "code",
   "execution_count": 15,
   "metadata": {},
   "outputs": [
    {
     "data": {
      "image/png": "[encoded data removed]",
      "text/plain": [
       "<matplotlib.figure.Figure at 0x10436e470>"
      ]
     },
     "metadata": {},
     "output_type": "display_data"
    }
   ],
   "source": [
    "weekday_order = ['Monday', 'Tuesday', 'Wednesday', 'Thursday',\n",
    "                 'Friday', 'Saturday', 'Sunday']\n",
    "\n",
    "fig, ax = plt.subplots(figsize=(9, 5))\n",
    "\n",
    "sns.boxplot(x='Day', y='Login Count (Daily)',\n",
    "            data=df_grouped_logins_1D, order=weekday_order, ax=ax)\n",
    "\n",
    "# Save the figure\n",
    "plt.savefig('login_counts_box_plot_day', dpi = 300, bbox_inches='tight')"
   ]
  },
  {
   "cell_type": "markdown",
   "metadata": {},
   "source": [
    "#### Create boxplot of hourly login counts"
   ]
  },
  {
   "cell_type": "code",
   "execution_count": 16,
   "metadata": {
    "collapsed": true
   },
   "outputs": [],
   "source": [
    "df_grouped_logins_1H = (df_logins.groupby(pd.Grouper(key='login_time',\n",
    "                                                     freq='1H'))\\\n",
    "                        ['login_time'].count())\n",
    "\n",
    "df_grouped_logins_1H = df_grouped_logins_1H.to_frame()\n",
    "\n",
    "df_grouped_logins_1H.rename(columns={'login_time': 'Login Count (Hourly)'},\n",
    "                         inplace=True)\n",
    "\n",
    "df_grouped_logins_1H.index.name = 'Login Bin (1 Hour)'\n",
    "\n",
    "df_grouped_logins_1H['Hour'] = (df_grouped_logins_1H.index.hour)"
   ]
  },
  {
   "cell_type": "code",
   "execution_count": 17,
   "metadata": {},
   "outputs": [
    {
     "data": {
      "image/png": "[encoded data removed]",
      "text/plain": [
       "<matplotlib.figure.Figure at 0x10c9c82b0>"
      ]
     },
     "metadata": {},
     "output_type": "display_data"
    }
   ],
   "source": [
    "hour_order = list(df_grouped_logins_1H.index.hour.unique().sort_values())\n",
    "\n",
    "fig, ax = plt.subplots(figsize=(9, 5))\n",
    "\n",
    "sns.boxplot(x='Hour', y='Login Count (Hourly)',\n",
    "            data=df_grouped_logins_1H, order=hour_order, ax=ax)\n",
    "\n",
    "# Save the figure\n",
    "plt.savefig('login_counts_box_plot_hour', dpi = 300, bbox_inches='tight')"
   ]
  },
  {
   "cell_type": "markdown",
   "metadata": {},
   "source": [
    "##  Part 3 ‐ Predictive modeling\n",
    "\n",
    "Ultimate is interested in predicting rider retention. To help explore this question, we have provided a sample dataset of a cohort of users who signed up for an Ultimate account in January 2014. The data was pulled several months later; we consider a user retained if they were “active” (i.e. took a trip) in the preceding 30 days.\n",
    "\n",
    "We would like you to use this data set to help understand what factors are the best predictors for retention, and offer suggestions to operationalize those insights to help Ultimate.\n",
    "\n",
    "The data is in the attached file `ultimate_data_challenge.json`. See below for a detailed description of the dataset. Please include any code you wrote for the analysis and delete the dataset when you have finished with the challenge.\n",
    "\n",
    "1. Perform any cleaning, exploratory analysis, and/or visualizations to use the provided data for this analysis (a few sentences/plots describing your approach will suffice). What fraction of the observed users were retained?\n",
    "2. Build a predictive model to help Ultimate determine whether or not a user will be active in their 6th month on the system. Discuss why you chose your approach, what alternatives you considered, and any concerns you have. How valid is your model? Include any key indicators of model performance.\n",
    "3. Briefly discuss how Ultimate might leverage the insights gained from the model to improve its long-term rider retention (again, a few sentences will suffice).\n"
   ]
  },
  {
   "cell_type": "markdown",
   "metadata": {},
   "source": [
    "### 1. Data Wrangling & EDA\n",
    "#### Data Wrangling"
   ]
  },
  {
   "cell_type": "code",
   "execution_count": 18,
   "metadata": {},
   "outputs": [
    {
     "data": {
      "text/plain": [
       "(50000, 12)"
      ]
     },
     "execution_count": 18,
     "metadata": {},
     "output_type": "execute_result"
    }
   ],
   "source": [
    "df_ultimate.shape"
   ]
  },
  {
   "cell_type": "code",
   "execution_count": 19,
   "metadata": {},
   "outputs": [
    {
     "data": {
      "text/html": [
       "<div>\n",
       "<style>\n",
       "    .dataframe thead tr:only-child th {\n",
       "        text-align: right;\n",
       "    }\n",
       "\n",
       "    .dataframe thead th {\n",
       "        text-align: left;\n",
       "    }\n",
       "\n",
       "    .dataframe tbody tr th {\n",
       "        vertical-align: top;\n",
       "    }\n",
       "</style>\n",
       "<table border=\"1\" class=\"dataframe\">\n",
       "  <thead>\n",
       "    <tr style=\"text-align: right;\">\n",
       "      <th></th>\n",
       "      <th>avg_dist</th>\n",
       "      <th>avg_rating_by_driver</th>\n",
       "      <th>avg_rating_of_driver</th>\n",
       "      <th>avg_surge</th>\n",
       "      <th>city</th>\n",
       "      <th>last_trip_date</th>\n",
       "      <th>phone</th>\n",
       "      <th>signup_date</th>\n",
       "      <th>surge_pct</th>\n",
       "      <th>trips_in_first_30_days</th>\n",
       "      <th>ultimate_black_user</th>\n",
       "      <th>weekday_pct</th>\n",
       "    </tr>\n",
       "  </thead>\n",
       "  <tbody>\n",
       "    <tr>\n",
       "      <th>0</th>\n",
       "      <td>3.67</td>\n",
       "      <td>5.0</td>\n",
       "      <td>4.7</td>\n",
       "      <td>1.10</td>\n",
       "      <td>King's Landing</td>\n",
       "      <td>2014-06-17</td>\n",
       "      <td>iPhone</td>\n",
       "      <td>2014-01-25</td>\n",
       "      <td>15.4</td>\n",
       "      <td>4</td>\n",
       "      <td>True</td>\n",
       "      <td>46.2</td>\n",
       "    </tr>\n",
       "    <tr>\n",
       "      <th>1</th>\n",
       "      <td>8.26</td>\n",
       "      <td>5.0</td>\n",
       "      <td>5.0</td>\n",
       "      <td>1.00</td>\n",
       "      <td>Astapor</td>\n",
       "      <td>2014-05-05</td>\n",
       "      <td>Android</td>\n",
       "      <td>2014-01-29</td>\n",
       "      <td>0.0</td>\n",
       "      <td>0</td>\n",
       "      <td>False</td>\n",
       "      <td>50.0</td>\n",
       "    </tr>\n",
       "    <tr>\n",
       "      <th>2</th>\n",
       "      <td>0.77</td>\n",
       "      <td>5.0</td>\n",
       "      <td>4.3</td>\n",
       "      <td>1.00</td>\n",
       "      <td>Astapor</td>\n",
       "      <td>2014-01-07</td>\n",
       "      <td>iPhone</td>\n",
       "      <td>2014-01-06</td>\n",
       "      <td>0.0</td>\n",
       "      <td>3</td>\n",
       "      <td>False</td>\n",
       "      <td>100.0</td>\n",
       "    </tr>\n",
       "    <tr>\n",
       "      <th>3</th>\n",
       "      <td>2.36</td>\n",
       "      <td>4.9</td>\n",
       "      <td>4.6</td>\n",
       "      <td>1.14</td>\n",
       "      <td>King's Landing</td>\n",
       "      <td>2014-06-29</td>\n",
       "      <td>iPhone</td>\n",
       "      <td>2014-01-10</td>\n",
       "      <td>20.0</td>\n",
       "      <td>9</td>\n",
       "      <td>True</td>\n",
       "      <td>80.0</td>\n",
       "    </tr>\n",
       "    <tr>\n",
       "      <th>4</th>\n",
       "      <td>3.13</td>\n",
       "      <td>4.9</td>\n",
       "      <td>4.4</td>\n",
       "      <td>1.19</td>\n",
       "      <td>Winterfell</td>\n",
       "      <td>2014-03-15</td>\n",
       "      <td>Android</td>\n",
       "      <td>2014-01-27</td>\n",
       "      <td>11.8</td>\n",
       "      <td>14</td>\n",
       "      <td>False</td>\n",
       "      <td>82.4</td>\n",
       "    </tr>\n",
       "  </tbody>\n",
       "</table>\n",
       "</div>"
      ],
      "text/plain": [
       "   avg_dist  avg_rating_by_driver  avg_rating_of_driver  avg_surge  \\\n",
       "0      3.67                   5.0                   4.7       1.10   \n",
       "1      8.26                   5.0                   5.0       1.00   \n",
       "2      0.77                   5.0                   4.3       1.00   \n",
       "3      2.36                   4.9                   4.6       1.14   \n",
       "4      3.13                   4.9                   4.4       1.19   \n",
       "\n",
       "             city last_trip_date    phone signup_date  surge_pct  \\\n",
       "0  King's Landing     2014-06-17   iPhone  2014-01-25       15.4   \n",
       "1         Astapor     2014-05-05  Android  2014-01-29        0.0   \n",
       "2         Astapor     2014-01-07   iPhone  2014-01-06        0.0   \n",
       "3  King's Landing     2014-06-29   iPhone  2014-01-10       20.0   \n",
       "4      Winterfell     2014-03-15  Android  2014-01-27       11.8   \n",
       "\n",
       "   trips_in_first_30_days  ultimate_black_user  weekday_pct  \n",
       "0                       4                 True         46.2  \n",
       "1                       0                False         50.0  \n",
       "2                       3                False        100.0  \n",
       "3                       9                 True         80.0  \n",
       "4                      14                False         82.4  "
      ]
     },
     "execution_count": 19,
     "metadata": {},
     "output_type": "execute_result"
    }
   ],
   "source": [
    "df_ultimate.head()"
   ]
  },
  {
   "cell_type": "markdown",
   "metadata": {},
   "source": [
    "Wrangle date variables."
   ]
  },
  {
   "cell_type": "code",
   "execution_count": 20,
   "metadata": {},
   "outputs": [
    {
     "data": {
      "text/plain": [
       "dtype('O')"
      ]
     },
     "execution_count": 20,
     "metadata": {},
     "output_type": "execute_result"
    }
   ],
   "source": [
    "df_ultimate['last_trip_date'].dtype"
   ]
  },
  {
   "cell_type": "code",
   "execution_count": 21,
   "metadata": {},
   "outputs": [
    {
     "data": {
      "text/plain": [
       "dtype('O')"
      ]
     },
     "execution_count": 21,
     "metadata": {},
     "output_type": "execute_result"
    }
   ],
   "source": [
    "df_ultimate['signup_date'].dtype"
   ]
  },
  {
   "cell_type": "code",
   "execution_count": 22,
   "metadata": {},
   "outputs": [],
   "source": [
    "df_ultimate['last_trip_date'] = \\\n",
    "pd.to_datetime(df_ultimate['last_trip_date'])"
   ]
  },
  {
   "cell_type": "code",
   "execution_count": 23,
   "metadata": {
    "collapsed": true
   },
   "outputs": [],
   "source": [
    "df_ultimate['signup_date'] = \\\n",
    "pd.to_datetime(df_ultimate['signup_date'])"
   ]
  },
  {
   "cell_type": "markdown",
   "metadata": {},
   "source": [
    "Wrangle boolean variables."
   ]
  },
  {
   "cell_type": "code",
   "execution_count": 24,
   "metadata": {
    "collapsed": true
   },
   "outputs": [],
   "source": [
    "df_ultimate['ultimate_black_user'] = (df_ultimate['ultimate_black_user']\\\n",
    "                                      .astype(int))"
   ]
  },
  {
   "cell_type": "markdown",
   "metadata": {},
   "source": [
    "#### Engineer new features."
   ]
  },
  {
   "cell_type": "code",
   "execution_count": 25,
   "metadata": {},
   "outputs": [],
   "source": [
    "df_ultimate['signup_dayofweek'] = df_ultimate['signup_date'].dt.dayofweek"
   ]
  },
  {
   "cell_type": "markdown",
   "metadata": {},
   "source": [
    "#### Create the response variable."
   ]
  },
  {
   "cell_type": "code",
   "execution_count": 26,
   "metadata": {},
   "outputs": [],
   "source": [
    "delta = df_ultimate['last_trip_date'] - df_ultimate['signup_date']\n",
    "\n",
    "last_active_month = (np.floor(delta / np.timedelta64(1,\n",
    "                                                    'M')).\\\n",
    "                     astype(int) + 1)\n",
    "\n",
    "df_ultimate['y'] = (last_active_month == 6).astype(int)"
   ]
  },
  {
   "cell_type": "markdown",
   "metadata": {},
   "source": [
    "Move the response variable to the leftmost column."
   ]
  },
  {
   "cell_type": "code",
   "execution_count": 27,
   "metadata": {
    "collapsed": true
   },
   "outputs": [],
   "source": [
    "col_names = list(df_ultimate.columns)\n",
    "col_names.insert(0, col_names.pop(col_names.index('y')))\n",
    "df_ultimate = df_ultimate.loc[:, col_names]"
   ]
  },
  {
   "cell_type": "markdown",
   "metadata": {},
   "source": [
    "#### Drop certain features"
   ]
  },
  {
   "cell_type": "markdown",
   "metadata": {},
   "source": [
    "We drop the `last_trip_date` variable.  It was used to calculate the response variable. This variable could not be known ahead of time, and it cannot be used to predict the response variable."
   ]
  },
  {
   "cell_type": "code",
   "execution_count": 28,
   "metadata": {},
   "outputs": [],
   "source": [
    "df_ultimate.drop('last_trip_date', axis=1,  inplace=True)"
   ]
  },
  {
   "cell_type": "markdown",
   "metadata": {},
   "source": [
    "We also drop the `signup_date` variable.  It too was used to calculate the response variable. "
   ]
  },
  {
   "cell_type": "code",
   "execution_count": 29,
   "metadata": {
    "collapsed": true
   },
   "outputs": [],
   "source": [
    "df_ultimate.drop('signup_date', axis=1,  inplace=True)"
   ]
  },
  {
   "cell_type": "markdown",
   "metadata": {},
   "source": [
    "#### One-hot-encode certain features"
   ]
  },
  {
   "cell_type": "code",
   "execution_count": 30,
   "metadata": {},
   "outputs": [
    {
     "data": {
      "text/html": [
       "<div>\n",
       "<style>\n",
       "    .dataframe thead tr:only-child th {\n",
       "        text-align: right;\n",
       "    }\n",
       "\n",
       "    .dataframe thead th {\n",
       "        text-align: left;\n",
       "    }\n",
       "\n",
       "    .dataframe tbody tr th {\n",
       "        vertical-align: top;\n",
       "    }\n",
       "</style>\n",
       "<table border=\"1\" class=\"dataframe\">\n",
       "  <thead>\n",
       "    <tr style=\"text-align: right;\">\n",
       "      <th></th>\n",
       "      <th>y</th>\n",
       "      <th>avg_dist</th>\n",
       "      <th>avg_rating_by_driver</th>\n",
       "      <th>avg_rating_of_driver</th>\n",
       "      <th>avg_surge</th>\n",
       "      <th>city</th>\n",
       "      <th>phone</th>\n",
       "      <th>surge_pct</th>\n",
       "      <th>trips_in_first_30_days</th>\n",
       "      <th>ultimate_black_user</th>\n",
       "      <th>weekday_pct</th>\n",
       "      <th>signup_dayofweek</th>\n",
       "    </tr>\n",
       "  </thead>\n",
       "  <tbody>\n",
       "    <tr>\n",
       "      <th>0</th>\n",
       "      <td>0</td>\n",
       "      <td>3.67</td>\n",
       "      <td>5.0</td>\n",
       "      <td>4.7</td>\n",
       "      <td>1.1</td>\n",
       "      <td>King's Landing</td>\n",
       "      <td>iPhone</td>\n",
       "      <td>15.4</td>\n",
       "      <td>4</td>\n",
       "      <td>1</td>\n",
       "      <td>46.2</td>\n",
       "      <td>5</td>\n",
       "    </tr>\n",
       "    <tr>\n",
       "      <th>1</th>\n",
       "      <td>0</td>\n",
       "      <td>8.26</td>\n",
       "      <td>5.0</td>\n",
       "      <td>5.0</td>\n",
       "      <td>1.0</td>\n",
       "      <td>Astapor</td>\n",
       "      <td>Android</td>\n",
       "      <td>0.0</td>\n",
       "      <td>0</td>\n",
       "      <td>0</td>\n",
       "      <td>50.0</td>\n",
       "      <td>2</td>\n",
       "    </tr>\n",
       "    <tr>\n",
       "      <th>2</th>\n",
       "      <td>0</td>\n",
       "      <td>0.77</td>\n",
       "      <td>5.0</td>\n",
       "      <td>4.3</td>\n",
       "      <td>1.0</td>\n",
       "      <td>Astapor</td>\n",
       "      <td>iPhone</td>\n",
       "      <td>0.0</td>\n",
       "      <td>3</td>\n",
       "      <td>0</td>\n",
       "      <td>100.0</td>\n",
       "      <td>0</td>\n",
       "    </tr>\n",
       "  </tbody>\n",
       "</table>\n",
       "</div>"
      ],
      "text/plain": [
       "   y  avg_dist  avg_rating_by_driver  avg_rating_of_driver  avg_surge  \\\n",
       "0  0      3.67                   5.0                   4.7        1.1   \n",
       "1  0      8.26                   5.0                   5.0        1.0   \n",
       "2  0      0.77                   5.0                   4.3        1.0   \n",
       "\n",
       "             city    phone  surge_pct  trips_in_first_30_days  \\\n",
       "0  King's Landing   iPhone       15.4                       4   \n",
       "1         Astapor  Android        0.0                       0   \n",
       "2         Astapor   iPhone        0.0                       3   \n",
       "\n",
       "   ultimate_black_user  weekday_pct  signup_dayofweek  \n",
       "0                    1         46.2                 5  \n",
       "1                    0         50.0                 2  \n",
       "2                    0        100.0                 0  "
      ]
     },
     "execution_count": 30,
     "metadata": {},
     "output_type": "execute_result"
    }
   ],
   "source": [
    "df_ultimate.head(3)"
   ]
  },
  {
   "cell_type": "code",
   "execution_count": 31,
   "metadata": {},
   "outputs": [
    {
     "data": {
      "text/plain": [
       "['city', 'phone']"
      ]
     },
     "execution_count": 31,
     "metadata": {},
     "output_type": "execute_result"
    }
   ],
   "source": [
    "drop_list = list(df_ultimate.select_dtypes(include=['object']).columns)\n",
    "drop_list"
   ]
  },
  {
   "cell_type": "markdown",
   "metadata": {},
   "source": [
    "One-hot-encode `city` and `phone`"
   ]
  },
  {
   "cell_type": "code",
   "execution_count": 32,
   "metadata": {
    "collapsed": true
   },
   "outputs": [],
   "source": [
    "df_ultimate = pd.get_dummies(df_ultimate, columns=drop_list)"
   ]
  },
  {
   "cell_type": "code",
   "execution_count": 33,
   "metadata": {},
   "outputs": [
    {
     "data": {
      "text/html": [
       "<div>\n",
       "<style>\n",
       "    .dataframe thead tr:only-child th {\n",
       "        text-align: right;\n",
       "    }\n",
       "\n",
       "    .dataframe thead th {\n",
       "        text-align: left;\n",
       "    }\n",
       "\n",
       "    .dataframe tbody tr th {\n",
       "        vertical-align: top;\n",
       "    }\n",
       "</style>\n",
       "<table border=\"1\" class=\"dataframe\">\n",
       "  <thead>\n",
       "    <tr style=\"text-align: right;\">\n",
       "      <th></th>\n",
       "      <th>y</th>\n",
       "      <th>avg_dist</th>\n",
       "      <th>avg_rating_by_driver</th>\n",
       "      <th>avg_rating_of_driver</th>\n",
       "      <th>avg_surge</th>\n",
       "      <th>surge_pct</th>\n",
       "      <th>trips_in_first_30_days</th>\n",
       "      <th>ultimate_black_user</th>\n",
       "      <th>weekday_pct</th>\n",
       "      <th>signup_dayofweek</th>\n",
       "      <th>city_Astapor</th>\n",
       "      <th>city_King's Landing</th>\n",
       "      <th>city_Winterfell</th>\n",
       "      <th>phone_Android</th>\n",
       "      <th>phone_iPhone</th>\n",
       "    </tr>\n",
       "  </thead>\n",
       "  <tbody>\n",
       "    <tr>\n",
       "      <th>0</th>\n",
       "      <td>0</td>\n",
       "      <td>3.67</td>\n",
       "      <td>5.0</td>\n",
       "      <td>4.7</td>\n",
       "      <td>1.1</td>\n",
       "      <td>15.4</td>\n",
       "      <td>4</td>\n",
       "      <td>1</td>\n",
       "      <td>46.2</td>\n",
       "      <td>5</td>\n",
       "      <td>0</td>\n",
       "      <td>1</td>\n",
       "      <td>0</td>\n",
       "      <td>0</td>\n",
       "      <td>1</td>\n",
       "    </tr>\n",
       "    <tr>\n",
       "      <th>1</th>\n",
       "      <td>0</td>\n",
       "      <td>8.26</td>\n",
       "      <td>5.0</td>\n",
       "      <td>5.0</td>\n",
       "      <td>1.0</td>\n",
       "      <td>0.0</td>\n",
       "      <td>0</td>\n",
       "      <td>0</td>\n",
       "      <td>50.0</td>\n",
       "      <td>2</td>\n",
       "      <td>1</td>\n",
       "      <td>0</td>\n",
       "      <td>0</td>\n",
       "      <td>1</td>\n",
       "      <td>0</td>\n",
       "    </tr>\n",
       "    <tr>\n",
       "      <th>2</th>\n",
       "      <td>0</td>\n",
       "      <td>0.77</td>\n",
       "      <td>5.0</td>\n",
       "      <td>4.3</td>\n",
       "      <td>1.0</td>\n",
       "      <td>0.0</td>\n",
       "      <td>3</td>\n",
       "      <td>0</td>\n",
       "      <td>100.0</td>\n",
       "      <td>0</td>\n",
       "      <td>1</td>\n",
       "      <td>0</td>\n",
       "      <td>0</td>\n",
       "      <td>0</td>\n",
       "      <td>1</td>\n",
       "    </tr>\n",
       "  </tbody>\n",
       "</table>\n",
       "</div>"
      ],
      "text/plain": [
       "   y  avg_dist  avg_rating_by_driver  avg_rating_of_driver  avg_surge  \\\n",
       "0  0      3.67                   5.0                   4.7        1.1   \n",
       "1  0      8.26                   5.0                   5.0        1.0   \n",
       "2  0      0.77                   5.0                   4.3        1.0   \n",
       "\n",
       "   surge_pct  trips_in_first_30_days  ultimate_black_user  weekday_pct  \\\n",
       "0       15.4                       4                    1         46.2   \n",
       "1        0.0                       0                    0         50.0   \n",
       "2        0.0                       3                    0        100.0   \n",
       "\n",
       "   signup_dayofweek  city_Astapor  city_King's Landing  city_Winterfell  \\\n",
       "0                 5             0                    1                0   \n",
       "1                 2             1                    0                0   \n",
       "2                 0             1                    0                0   \n",
       "\n",
       "   phone_Android  phone_iPhone  \n",
       "0              0             1  \n",
       "1              1             0  \n",
       "2              0             1  "
      ]
     },
     "execution_count": 33,
     "metadata": {},
     "output_type": "execute_result"
    }
   ],
   "source": [
    "df_ultimate.head(3)"
   ]
  },
  {
   "cell_type": "markdown",
   "metadata": {},
   "source": [
    "Check for null values"
   ]
  },
  {
   "cell_type": "code",
   "execution_count": 34,
   "metadata": {},
   "outputs": [
    {
     "data": {
      "text/plain": [
       "y                            0\n",
       "avg_dist                     0\n",
       "avg_rating_by_driver       201\n",
       "avg_rating_of_driver      8122\n",
       "avg_surge                    0\n",
       "surge_pct                    0\n",
       "trips_in_first_30_days       0\n",
       "ultimate_black_user          0\n",
       "weekday_pct                  0\n",
       "signup_dayofweek             0\n",
       "city_Astapor                 0\n",
       "city_King's Landing          0\n",
       "city_Winterfell              0\n",
       "phone_Android                0\n",
       "phone_iPhone                 0\n",
       "dtype: int64"
      ]
     },
     "execution_count": 34,
     "metadata": {},
     "output_type": "execute_result"
    }
   ],
   "source": [
    "df_ultimate.isnull().sum()"
   ]
  },
  {
   "cell_type": "markdown",
   "metadata": {},
   "source": [
    "#### What fraction of the observed users were retained?"
   ]
  },
  {
   "cell_type": "markdown",
   "metadata": {},
   "source": [
    "What fraction of the observed users were retained (*i.e*., still active in their 6th month on the system)?"
   ]
  },
  {
   "cell_type": "code",
   "execution_count": 35,
   "metadata": {},
   "outputs": [
    {
     "data": {
      "text/plain": [
       "0    0.77612\n",
       "1    0.22388\n",
       "Name: y, dtype: float64"
      ]
     },
     "execution_count": 35,
     "metadata": {},
     "output_type": "execute_result"
    }
   ],
   "source": [
    "df_ultimate['y'].value_counts(normalize=True)"
   ]
  },
  {
   "cell_type": "markdown",
   "metadata": {},
   "source": [
    "About 22% of the observed users were retained."
   ]
  },
  {
   "cell_type": "markdown",
   "metadata": {},
   "source": [
    "### 2. Build a predictive model"
   ]
  },
  {
   "cell_type": "markdown",
   "metadata": {},
   "source": [
    "Build a predictive model to help Ultimate determine whether or not a user will be active in their 6th month on the system. Discuss why you chose your approach, what alternatives you considered, and any concerns you have. How valid is your model? Include any key indicators of model performance."
   ]
  },
  {
   "cell_type": "code",
   "execution_count": 36,
   "metadata": {},
   "outputs": [
    {
     "data": {
      "text/html": [
       "<div>\n",
       "<style>\n",
       "    .dataframe thead tr:only-child th {\n",
       "        text-align: right;\n",
       "    }\n",
       "\n",
       "    .dataframe thead th {\n",
       "        text-align: left;\n",
       "    }\n",
       "\n",
       "    .dataframe tbody tr th {\n",
       "        vertical-align: top;\n",
       "    }\n",
       "</style>\n",
       "<table border=\"1\" class=\"dataframe\">\n",
       "  <thead>\n",
       "    <tr style=\"text-align: right;\">\n",
       "      <th></th>\n",
       "      <th>y</th>\n",
       "      <th>avg_dist</th>\n",
       "      <th>avg_rating_by_driver</th>\n",
       "      <th>avg_rating_of_driver</th>\n",
       "      <th>avg_surge</th>\n",
       "      <th>surge_pct</th>\n",
       "      <th>trips_in_first_30_days</th>\n",
       "      <th>ultimate_black_user</th>\n",
       "      <th>weekday_pct</th>\n",
       "      <th>signup_dayofweek</th>\n",
       "      <th>city_Astapor</th>\n",
       "      <th>city_King's Landing</th>\n",
       "      <th>city_Winterfell</th>\n",
       "      <th>phone_Android</th>\n",
       "      <th>phone_iPhone</th>\n",
       "    </tr>\n",
       "  </thead>\n",
       "  <tbody>\n",
       "    <tr>\n",
       "      <th>0</th>\n",
       "      <td>0</td>\n",
       "      <td>3.67</td>\n",
       "      <td>5.0</td>\n",
       "      <td>4.7</td>\n",
       "      <td>1.10</td>\n",
       "      <td>15.4</td>\n",
       "      <td>4</td>\n",
       "      <td>1</td>\n",
       "      <td>46.2</td>\n",
       "      <td>5</td>\n",
       "      <td>0</td>\n",
       "      <td>1</td>\n",
       "      <td>0</td>\n",
       "      <td>0</td>\n",
       "      <td>1</td>\n",
       "    </tr>\n",
       "    <tr>\n",
       "      <th>1</th>\n",
       "      <td>0</td>\n",
       "      <td>8.26</td>\n",
       "      <td>5.0</td>\n",
       "      <td>5.0</td>\n",
       "      <td>1.00</td>\n",
       "      <td>0.0</td>\n",
       "      <td>0</td>\n",
       "      <td>0</td>\n",
       "      <td>50.0</td>\n",
       "      <td>2</td>\n",
       "      <td>1</td>\n",
       "      <td>0</td>\n",
       "      <td>0</td>\n",
       "      <td>1</td>\n",
       "      <td>0</td>\n",
       "    </tr>\n",
       "    <tr>\n",
       "      <th>2</th>\n",
       "      <td>0</td>\n",
       "      <td>0.77</td>\n",
       "      <td>5.0</td>\n",
       "      <td>4.3</td>\n",
       "      <td>1.00</td>\n",
       "      <td>0.0</td>\n",
       "      <td>3</td>\n",
       "      <td>0</td>\n",
       "      <td>100.0</td>\n",
       "      <td>0</td>\n",
       "      <td>1</td>\n",
       "      <td>0</td>\n",
       "      <td>0</td>\n",
       "      <td>0</td>\n",
       "      <td>1</td>\n",
       "    </tr>\n",
       "    <tr>\n",
       "      <th>3</th>\n",
       "      <td>1</td>\n",
       "      <td>2.36</td>\n",
       "      <td>4.9</td>\n",
       "      <td>4.6</td>\n",
       "      <td>1.14</td>\n",
       "      <td>20.0</td>\n",
       "      <td>9</td>\n",
       "      <td>1</td>\n",
       "      <td>80.0</td>\n",
       "      <td>4</td>\n",
       "      <td>0</td>\n",
       "      <td>1</td>\n",
       "      <td>0</td>\n",
       "      <td>0</td>\n",
       "      <td>1</td>\n",
       "    </tr>\n",
       "    <tr>\n",
       "      <th>4</th>\n",
       "      <td>0</td>\n",
       "      <td>3.13</td>\n",
       "      <td>4.9</td>\n",
       "      <td>4.4</td>\n",
       "      <td>1.19</td>\n",
       "      <td>11.8</td>\n",
       "      <td>14</td>\n",
       "      <td>0</td>\n",
       "      <td>82.4</td>\n",
       "      <td>0</td>\n",
       "      <td>0</td>\n",
       "      <td>0</td>\n",
       "      <td>1</td>\n",
       "      <td>1</td>\n",
       "      <td>0</td>\n",
       "    </tr>\n",
       "  </tbody>\n",
       "</table>\n",
       "</div>"
      ],
      "text/plain": [
       "   y  avg_dist  avg_rating_by_driver  avg_rating_of_driver  avg_surge  \\\n",
       "0  0      3.67                   5.0                   4.7       1.10   \n",
       "1  0      8.26                   5.0                   5.0       1.00   \n",
       "2  0      0.77                   5.0                   4.3       1.00   \n",
       "3  1      2.36                   4.9                   4.6       1.14   \n",
       "4  0      3.13                   4.9                   4.4       1.19   \n",
       "\n",
       "   surge_pct  trips_in_first_30_days  ultimate_black_user  weekday_pct  \\\n",
       "0       15.4                       4                    1         46.2   \n",
       "1        0.0                       0                    0         50.0   \n",
       "2        0.0                       3                    0        100.0   \n",
       "3       20.0                       9                    1         80.0   \n",
       "4       11.8                      14                    0         82.4   \n",
       "\n",
       "   signup_dayofweek  city_Astapor  city_King's Landing  city_Winterfell  \\\n",
       "0                 5             0                    1                0   \n",
       "1                 2             1                    0                0   \n",
       "2                 0             1                    0                0   \n",
       "3                 4             0                    1                0   \n",
       "4                 0             0                    0                1   \n",
       "\n",
       "   phone_Android  phone_iPhone  \n",
       "0              0             1  \n",
       "1              1             0  \n",
       "2              0             1  \n",
       "3              0             1  \n",
       "4              1             0  "
      ]
     },
     "execution_count": 36,
     "metadata": {},
     "output_type": "execute_result"
    }
   ],
   "source": [
    "df_ultimate.head()"
   ]
  },
  {
   "cell_type": "markdown",
   "metadata": {},
   "source": [
    "#### Train test split"
   ]
  },
  {
   "cell_type": "code",
   "execution_count": 37,
   "metadata": {
    "collapsed": true
   },
   "outputs": [],
   "source": [
    "df = df_ultimate"
   ]
  },
  {
   "cell_type": "code",
   "execution_count": 38,
   "metadata": {},
   "outputs": [],
   "source": [
    "# Extract X and y from df\n",
    "X = df.drop('y', axis=1).values\n",
    "y = df['y'].values\n",
    "\n",
    "# Train test split\n",
    "X_train, X_test, y_train, y_test = \\\n",
    "    train_test_split(X, y, test_size=0.3, random_state=42)"
   ]
  },
  {
   "cell_type": "markdown",
   "metadata": {},
   "source": [
    "#### Define the pipeline"
   ]
  },
  {
   "cell_type": "code",
   "execution_count": 39,
   "metadata": {
    "collapsed": true
   },
   "outputs": [],
   "source": [
    "# Create pipeline\n",
    "pipe = Pipeline([('classifier', \n",
    "                  XGBClassifier(objective='binary:logistic'))])\n",
    "\n",
    "# Create parameter grid\n",
    "param_grid = [\n",
    "    {'classifier': [XGBClassifier(objective='binary:logistic')], \n",
    "     'classifier__n_estimators': [200]}]"
   ]
  },
  {
   "cell_type": "markdown",
   "metadata": {},
   "source": [
    "#### Perform the grid search"
   ]
  },
  {
   "cell_type": "code",
   "execution_count": 40,
   "metadata": {},
   "outputs": [
    {
     "name": "stdout",
     "output_type": "stream",
     "text": [
      "Fitting 3 folds for each of 1 candidates, totalling 3 fits\n"
     ]
    },
    {
     "name": "stderr",
     "output_type": "stream",
     "text": [
      "[Parallel(n_jobs=1)]: Done   3 out of   3 | elapsed:    4.9s finished\n"
     ]
    },
    {
     "name": "stdout",
     "output_type": "stream",
     "text": [
      "Best params:\n",
      "{'classifier': XGBClassifier(base_score=0.5, colsample_bylevel=1, colsample_bytree=1,\n",
      "       gamma=0, learning_rate=0.1, max_delta_step=0, max_depth=3,\n",
      "       min_child_weight=1, missing=None, n_estimators=200, nthread=-1,\n",
      "       objective='binary:logistic', reg_alpha=0, reg_lambda=1,\n",
      "       scale_pos_weight=1, seed=0, silent=True, subsample=1), 'classifier__n_estimators': 200}\n",
      "\n",
      "Best cross-validation score: 0.818\n"
     ]
    }
   ],
   "source": [
    "# Set verbosity\n",
    "verbosity = 1\n",
    "\n",
    "# Execute Grid search\n",
    "grid = GridSearchCV(pipe, param_grid, cv=3, scoring='roc_auc',\n",
    "                    verbose=verbosity)#, n_jobs=cores_used)\n",
    "\n",
    "# Set seed for reproducibility\n",
    "np.random.seed(42)\n",
    "\n",
    "# Fit the grid search object\n",
    "grid.fit(X_train, y_train)\n",
    "\n",
    "print(\"Best params:\\n{}\\n\".format(grid.best_params_))\n",
    "print(\"Best cross-validation score: {:.3f}\".format(grid.best_score_))"
   ]
  },
  {
   "cell_type": "markdown",
   "metadata": {},
   "source": [
    "#### Analyze model results"
   ]
  },
  {
   "cell_type": "code",
   "execution_count": 41,
   "metadata": {
    "collapsed": true
   },
   "outputs": [],
   "source": [
    "clf = grid.best_estimator_"
   ]
  },
  {
   "cell_type": "code",
   "execution_count": 42,
   "metadata": {},
   "outputs": [
    {
     "data": {
      "text/plain": [
       "0.81890217684888911"
      ]
     },
     "execution_count": 42,
     "metadata": {},
     "output_type": "execute_result"
    }
   ],
   "source": [
    "roc_auc_score(y_test, clf.predict_proba(X_test)[:,1])"
   ]
  },
  {
   "cell_type": "code",
   "execution_count": 43,
   "metadata": {},
   "outputs": [
    {
     "data": {
      "text/plain": [
       "array([[25516,  1639],\n",
       "       [ 4826,  3019]])"
      ]
     },
     "execution_count": 43,
     "metadata": {},
     "output_type": "execute_result"
    }
   ],
   "source": [
    "confusion_matrix(y_train, clf.predict(X_train))"
   ]
  },
  {
   "cell_type": "code",
   "execution_count": 44,
   "metadata": {},
   "outputs": [
    {
     "data": {
      "text/plain": [
       "array([[10916,   735],\n",
       "       [ 2138,  1211]])"
      ]
     },
     "execution_count": 44,
     "metadata": {},
     "output_type": "execute_result"
    }
   ],
   "source": [
    "confusion_matrix(y_test, clf.predict(X_test))"
   ]
  },
  {
   "cell_type": "markdown",
   "metadata": {},
   "source": [
    "#### Feature Importance\n",
    "\n",
    "Identify the relative importance of each feature and plot relative feature importance."
   ]
  },
  {
   "cell_type": "code",
   "execution_count": 45,
   "metadata": {},
   "outputs": [],
   "source": [
    "features_importance = pd.Series(clf.steps[0][1].feature_importances_,\n",
    "                                index=df.drop('y', axis=1).columns)\n",
    "\n",
    "features_importance.sort_values(ascending=False, inplace=True)"
   ]
  },
  {
   "cell_type": "code",
   "execution_count": 46,
   "metadata": {},
   "outputs": [
    {
     "data": {
      "image/png": "[encoded data removed]",
      "text/plain": [
       "<matplotlib.figure.Figure at 0x1119e8dd8>"
      ]
     },
     "metadata": {},
     "output_type": "display_data"
    }
   ],
   "source": [
    "sns.barplot(y=features_importance.index,\n",
    "            x=features_importance.values)\n",
    "\n",
    "# Save the figure\n",
    "plt.savefig('feature_importance', dpi = 300, bbox_inches='tight')"
   ]
  },
  {
   "cell_type": "code",
   "execution_count": 47,
   "metadata": {
    "collapsed": true
   },
   "outputs": [],
   "source": [
    "#def partial_dependency(model, X, features, selected_feature, floor):\n",
    "def partial_dependency_2d(model, X, selected_feature_1=0,\n",
    "                          selected_feature_2=7):\n",
    "     # The model could be an XGBoost sklearn fitted instance (or anything else with a \n",
    "    # predict method)\n",
    "    X_temp = X.copy()\n",
    "\n",
    "    grid_1 = np.linspace(np.percentile(X_temp[:, selected_feature_1], 0.1), \n",
    "                         np.percentile(X_temp[:, selected_feature_1], 99.5), \n",
    "                         50)\n",
    "    grid_2 = np.linspace(np.percentile(X_temp[:, selected_feature_2], 0.1), \n",
    "                         np.percentile(X_temp[:, selected_feature_2], 99.5), \n",
    "                         50)\n",
    "\n",
    "    XX_1, XX_2 = np.meshgrid(grid_1, grid_2)\n",
    "    \n",
    "    y_pred = np.zeros(XX_1.shape)\n",
    "    \n",
    "    for i in range(XX_1.shape[0]):\n",
    "        for j in range(XX_2.shape[1]):\n",
    "            X_temp[:, selected_feature_1] = grid_1[i]\n",
    "            X_temp[:, selected_feature_2] = grid_2[j]\n",
    "\n",
    "            y_pred[i, j] = model.predict(X_temp).mean()\n",
    "    \n",
    "    return XX_1, XX_2, y_pred"
   ]
  },
  {
   "cell_type": "code",
   "execution_count": 48,
   "metadata": {},
   "outputs": [],
   "source": [
    "clf = grid.best_estimator_\n",
    "\n",
    "XX_1, XX_2, y_pred = partial_dependency_2d(clf, X_train,\n",
    "                                       selected_feature_1=0,\n",
    "                                       selected_feature_2=7)"
   ]
  },
  {
   "cell_type": "code",
   "execution_count": 49,
   "metadata": {},
   "outputs": [
    {
     "data": {
      "image/png": "[encoded data removed]",
      "text/plain": [
       "<matplotlib.figure.Figure at 0x10b45ecc0>"
      ]
     },
     "metadata": {},
     "output_type": "display_data"
    }
   ],
   "source": [
    "column_names = df.drop('y', axis=1).columns\n",
    "column_names = np.array(column_names)\n",
    "column_names\n",
    "\n",
    "fig = plt.figure()\n",
    "ax = Axes3D(fig)\n",
    "surf = ax.plot_surface(XX_1, XX_2, y_pred, rstride=1, cstride=1,\n",
    "                       cmap=plt.cm.BuPu, edgecolor='k')\n",
    "ax.set_xlabel(column_names[0])\n",
    "ax.set_ylabel(column_names[7])\n",
    "ax.set_zlabel('Partial dependence')\n",
    "#  pretty init view\n",
    "ax.view_init(elev=30, azim=130)\n",
    "plt.colorbar(surf)\n",
    "\n",
    "# Save the figure\n",
    "plt.savefig('Partial_dependence', dpi = 300,\n",
    "            bbox_inches='tight')"
   ]
  },
  {
   "cell_type": "markdown",
   "metadata": {},
   "source": [
    "#### Other\n",
    "#### Fraction of users retained by phone"
   ]
  },
  {
   "cell_type": "markdown",
   "metadata": {},
   "source": [
    "Is there a apple/android problem?"
   ]
  },
  {
   "cell_type": "code",
   "execution_count": 50,
   "metadata": {
    "collapsed": true
   },
   "outputs": [],
   "source": [
    "df_temp = pd.DataFrame(data_ultimate)\n",
    "\n",
    "df_phone = df_ultimate[['y']].join(df_temp[['phone']])\n",
    "\n",
    "df_phone = df_phone.groupby(by=['phone', 'y'])['y'].count().unstack()"
   ]
  },
  {
   "cell_type": "code",
   "execution_count": 51,
   "metadata": {},
   "outputs": [
    {
     "data": {
      "text/html": [
       "<div>\n",
       "<style>\n",
       "    .dataframe thead tr:only-child th {\n",
       "        text-align: right;\n",
       "    }\n",
       "\n",
       "    .dataframe thead th {\n",
       "        text-align: left;\n",
       "    }\n",
       "\n",
       "    .dataframe tbody tr th {\n",
       "        vertical-align: top;\n",
       "    }\n",
       "</style>\n",
       "<table border=\"1\" class=\"dataframe\">\n",
       "  <thead>\n",
       "    <tr style=\"text-align: right;\">\n",
       "      <th>y</th>\n",
       "      <th>0</th>\n",
       "      <th>1</th>\n",
       "    </tr>\n",
       "    <tr>\n",
       "      <th>phone</th>\n",
       "      <th></th>\n",
       "      <th></th>\n",
       "    </tr>\n",
       "  </thead>\n",
       "  <tbody>\n",
       "    <tr>\n",
       "      <th>Android</th>\n",
       "      <td>13273</td>\n",
       "      <td>1749</td>\n",
       "    </tr>\n",
       "    <tr>\n",
       "      <th>iPhone</th>\n",
       "      <td>25214</td>\n",
       "      <td>9368</td>\n",
       "    </tr>\n",
       "  </tbody>\n",
       "</table>\n",
       "</div>"
      ],
      "text/plain": [
       "y            0     1\n",
       "phone               \n",
       "Android  13273  1749\n",
       "iPhone   25214  9368"
      ]
     },
     "execution_count": 51,
     "metadata": {},
     "output_type": "execute_result"
    }
   ],
   "source": [
    "df_phone"
   ]
  },
  {
   "cell_type": "markdown",
   "metadata": {},
   "source": [
    "#### Fraction of users retained by phone"
   ]
  },
  {
   "cell_type": "code",
   "execution_count": 52,
   "metadata": {},
   "outputs": [
    {
     "data": {
      "text/plain": [
       "phone\n",
       "Android    0.116429\n",
       "iPhone     0.270892\n",
       "dtype: float64"
      ]
     },
     "execution_count": 52,
     "metadata": {},
     "output_type": "execute_result"
    }
   ],
   "source": [
    "df_phone[1].div(df_phone[0] + df_phone[1])"
   ]
  },
  {
   "cell_type": "markdown",
   "metadata": {},
   "source": [
    "#### Resample fraction of users retained by phone"
   ]
  },
  {
   "cell_type": "code",
   "execution_count": 53,
   "metadata": {
    "collapsed": true
   },
   "outputs": [],
   "source": [
    "df_temp = pd.DataFrame(data_ultimate)\n",
    "\n",
    "df_phone = df_ultimate[['y']].join(df_temp[['phone']])"
   ]
  },
  {
   "cell_type": "code",
   "execution_count": 54,
   "metadata": {},
   "outputs": [],
   "source": [
    "n_samples = 500 #len(df_phone)\n",
    "\n",
    "iters = 1000\n",
    "\n",
    "phone_array = np.zeros((iters,2))\n",
    "\n",
    "for i in range(iters):\n",
    "\n",
    "    df_phone_sample = (df_phone.sample(n=n_samples,\n",
    "                                       replace=True).\\\n",
    "                       groupby(by=['phone',\n",
    "                                   'y'])['y'].count().unstack())\n",
    "\n",
    "    temp_series = df_phone_sample[1].div(df_phone_sample[0] + \\\n",
    "                                         df_phone_sample[1])\n",
    "    \n",
    "    phone_array[i] = temp_series.values\n",
    "\n",
    "    \n",
    "df_phone_sample = pd.DataFrame(phone_array, columns=temp_series.index)"
   ]
  },
  {
   "cell_type": "code",
   "execution_count": 55,
   "metadata": {},
   "outputs": [
    {
     "data": {
      "image/png": "[encoded data removed]",
      "text/plain": [
       "<matplotlib.figure.Figure at 0x110693ac8>"
      ]
     },
     "metadata": {},
     "output_type": "display_data"
    }
   ],
   "source": [
    "sns.distplot(df_phone_sample['Android'], kde=False, label='Android', color='r')\n",
    "sns.distplot(df_phone_sample['iPhone'], kde=False, label='iPhone', color='b')\n",
    "plt.legend(loc='upper center')\n",
    "plt.xlabel('Proportion of Users Retained')\n",
    "plt.title('Proportion of Users Retained\\n' + \n",
    "          'n_samples = {}\\n'.format(str(n_samples)) +\n",
    "          'iters = {}'.format(str(iters)))\n",
    "\n",
    "# Save the figure\n",
    "plt.savefig('proportion_retained_by_phone', dpi = 300, \n",
    "            bbox_inches='tight')"
   ]
  }
 ],
 "metadata": {
  "kernelspec": {
   "display_name": "Python 3",
   "language": "python",
   "name": "python3"
  },
  "language_info": {
   "codemirror_mode": {
    "name": "ipython",
    "version": 3
   },
   "file_extension": ".py",
   "mimetype": "text/x-python",
   "name": "python",
   "nbconvert_exporter": "python",
   "pygments_lexer": "ipython3",
   "version": "3.6.1"
  }
 },
 "nbformat": 4,
 "nbformat_minor": 2
}
