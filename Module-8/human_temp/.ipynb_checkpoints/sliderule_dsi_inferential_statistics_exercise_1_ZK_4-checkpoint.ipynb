{
 "cells": [
  {
   "cell_type": "markdown",
   "metadata": {},
   "source": [
    "# What is the True Normal Human Body Temperature? \n",
    "\n",
    "#### Background\n",
    "\n",
    "The mean normal body temperature was held to be 37$^{\\circ}$C or 98.6$^{\\circ}$F for more than 120 years since it was first conceptualized and reported by Carl Wunderlich in a famous 1868 book. But, is this value statistically correct?"
   ]
  },
  {
   "cell_type": "markdown",
   "metadata": {},
   "source": [
    "<div class=\"span5 alert alert-info\">\n",
    "<h3>Exercises</h3>\n",
    "\n",
    "<p>In this exercise, you will analyze a dataset of human body temperatures and employ the concepts of hypothesis testing, confidence intervals, and statistical significance.</p>\n",
    "\n",
    "<p>Answer the following questions <b>in this notebook below and submit to your Github account</b>.</p> \n",
    "\n",
    "<ol>\n",
    "<li>  Is the distribution of body temperatures normal? \n",
    "    <ul>\n",
    "    <li> Although this is not a requirement for CLT to hold (read CLT carefully), it gives us some peace of mind that the population may also be normally distributed if we assume that this sample is representative of the population.\n",
    "    </ul>\n",
    "<li>  Is the sample size large? Are the observations independent?\n",
    "    <ul>\n",
    "    <li> Remember that this is a condition for the CLT, and hence the statistical tests we are using, to apply.\n",
    "    </ul>\n",
    "<li>  Is the true population mean really 98.6 degrees F?\n",
    "    <ul>\n",
    "    <li> Would you use a one-sample or two-sample test? Why?\n",
    "    <li> In this situation, is it appropriate to use the $t$ or $z$ statistic? \n",
    "    <li> Now try using the other test. How is the result different? Why?\n",
    "    </ul>\n",
    "<li>  At what temperature should we consider someone's temperature to be \"abnormal\"?\n",
    "    <ul>\n",
    "    <li> Start by computing the margin of error and confidence interval.\n",
    "    </ul>\n",
    "<li>  Is there a significant difference between males and females in normal temperature?\n",
    "    <ul>\n",
    "    <li> What test did you use and why?\n",
    "    <li> Write a story with your conclusion in the context of the original problem.\n",
    "    </ul>\n",
    "</ol>\n",
    "\n",
    "You can include written notes in notebook cells using Markdown: \n",
    "   - In the control panel at the top, choose Cell > Cell Type > Markdown\n",
    "   - Markdown syntax: http://nestacms.com/docs/creating-content/markdown-cheat-sheet\n",
    "\n",
    "#### Resources\n",
    "\n",
    "+ Information and data sources: http://www.amstat.org/publications/jse/datasets/normtemp.txt, http://www.amstat.org/publications/jse/jse_data_archive.htm\n",
    "+ Markdown syntax: http://nestacms.com/docs/creating-content/markdown-cheat-sheet\n",
    "\n",
    "****\n",
    "</div>"
   ]
  },
  {
   "cell_type": "code",
   "execution_count": 1,
   "metadata": {
    "collapsed": true
   },
   "outputs": [],
   "source": [
    "import pandas as pd\n",
    "\n",
    "df = pd.read_csv('data/human_body_temperature.csv')"
   ]
  },
  {
   "cell_type": "code",
   "execution_count": 2,
   "metadata": {
    "collapsed": true
   },
   "outputs": [],
   "source": [
    "# Your work here."
   ]
  },
  {
   "cell_type": "markdown",
   "metadata": {},
   "source": [
    "### Import additional libraries"
   ]
  },
  {
   "cell_type": "code",
   "execution_count": null,
   "metadata": {
    "collapsed": true
   },
   "outputs": [],
   "source": [
    "import seaborn as sns\n",
    "import numpy as np\n",
    "from scipy import stats\n",
    "import math\n",
    "import matplotlib\n",
    "from matplotlib import pyplot as plt\n",
    "%matplotlib inline"
   ]
  },
  {
   "cell_type": "markdown",
   "metadata": {},
   "source": [
    "### Inspect the data"
   ]
  },
  {
   "cell_type": "code",
   "execution_count": null,
   "metadata": {},
   "outputs": [],
   "source": [
    "df.head()"
   ]
  },
  {
   "cell_type": "code",
   "execution_count": 5,
   "metadata": {},
   "outputs": [
    {
     "data": {
      "text/plain": [
       "130"
      ]
     },
     "execution_count": 5,
     "metadata": {},
     "output_type": "execute_result"
    }
   ],
   "source": [
    "# How many rows does the DataFrame have?\n",
    "len(df)"
   ]
  },
  {
   "cell_type": "code",
   "execution_count": 6,
   "metadata": {},
   "outputs": [
    {
     "data": {
      "text/plain": [
       "temperature    False\n",
       "gender         False\n",
       "heart_rate     False\n",
       "dtype: bool"
      ]
     },
     "execution_count": 6,
     "metadata": {},
     "output_type": "execute_result"
    }
   ],
   "source": [
    "# Does the DataFrame contain any null values?\n",
    "df.any().isnull()"
   ]
  },
  {
   "cell_type": "code",
   "execution_count": 7,
   "metadata": {},
   "outputs": [
    {
     "data": {
      "text/html": [
       "<div>\n",
       "<style>\n",
       "    .dataframe thead tr:only-child th {\n",
       "        text-align: right;\n",
       "    }\n",
       "\n",
       "    .dataframe thead th {\n",
       "        text-align: left;\n",
       "    }\n",
       "\n",
       "    .dataframe tbody tr th {\n",
       "        vertical-align: top;\n",
       "    }\n",
       "</style>\n",
       "<table border=\"1\" class=\"dataframe\">\n",
       "  <thead>\n",
       "    <tr style=\"text-align: right;\">\n",
       "      <th></th>\n",
       "      <th>temperature</th>\n",
       "      <th>heart_rate</th>\n",
       "    </tr>\n",
       "  </thead>\n",
       "  <tbody>\n",
       "    <tr>\n",
       "      <th>count</th>\n",
       "      <td>130.000000</td>\n",
       "      <td>130.000000</td>\n",
       "    </tr>\n",
       "    <tr>\n",
       "      <th>mean</th>\n",
       "      <td>98.249231</td>\n",
       "      <td>73.761538</td>\n",
       "    </tr>\n",
       "    <tr>\n",
       "      <th>std</th>\n",
       "      <td>0.733183</td>\n",
       "      <td>7.062077</td>\n",
       "    </tr>\n",
       "    <tr>\n",
       "      <th>min</th>\n",
       "      <td>96.300000</td>\n",
       "      <td>57.000000</td>\n",
       "    </tr>\n",
       "    <tr>\n",
       "      <th>25%</th>\n",
       "      <td>97.800000</td>\n",
       "      <td>69.000000</td>\n",
       "    </tr>\n",
       "    <tr>\n",
       "      <th>50%</th>\n",
       "      <td>98.300000</td>\n",
       "      <td>74.000000</td>\n",
       "    </tr>\n",
       "    <tr>\n",
       "      <th>75%</th>\n",
       "      <td>98.700000</td>\n",
       "      <td>79.000000</td>\n",
       "    </tr>\n",
       "    <tr>\n",
       "      <th>max</th>\n",
       "      <td>100.800000</td>\n",
       "      <td>89.000000</td>\n",
       "    </tr>\n",
       "  </tbody>\n",
       "</table>\n",
       "</div>"
      ],
      "text/plain": [
       "       temperature  heart_rate\n",
       "count   130.000000  130.000000\n",
       "mean     98.249231   73.761538\n",
       "std       0.733183    7.062077\n",
       "min      96.300000   57.000000\n",
       "25%      97.800000   69.000000\n",
       "50%      98.300000   74.000000\n",
       "75%      98.700000   79.000000\n",
       "max     100.800000   89.000000"
      ]
     },
     "execution_count": 7,
     "metadata": {},
     "output_type": "execute_result"
    }
   ],
   "source": [
    "# Check summary statistics of the data.\n",
    "df.describe()"
   ]
  },
  {
   "cell_type": "code",
   "execution_count": 8,
   "metadata": {},
   "outputs": [
    {
     "data": {
      "text/plain": [
       "M    65\n",
       "F    65\n",
       "Name: gender, dtype: int64"
      ]
     },
     "execution_count": 8,
     "metadata": {},
     "output_type": "execute_result"
    }
   ],
   "source": [
    "# Check if the data set is balanced with respect to gender.\n",
    "df.gender.value_counts()"
   ]
  },
  {
   "cell_type": "markdown",
   "metadata": {},
   "source": [
    "## 1. Is the distribution of body temperatures normal?"
   ]
  },
  {
   "cell_type": "markdown",
   "metadata": {},
   "source": [
    "In our normality test, our null-hypothesis is that the population of body temperatures (from which our sample is taken) is normally distributed. \n",
    "\n",
    "+ The skewness of any univariate normal distribution is 0.\n",
    "\n",
    "+ The kurtosis of any univariate normal distribution is 3.\n",
    "\n",
    "By subtracting 3 from the kurtosis, we can obtain a measure of excess kurtosis (also known as \"Fisher's kurtosis\").  The excess kurtosis of any univariate normal distribution is 0.\n",
    "\n",
    "We can state our null-hypothesis as follows: \n",
    "\n",
    "+ $H_0$ : The population of body temperatures has skewness equal to 0 and has excess kurtosis equal to 0.\n",
    "\n",
    "+ $H_1$ : The population of body temperatures non-zero skewness or has non-zero excess kurtosis.\n",
    "\n",
    "We will assume a significance level of $\\alpha$ = 0.05 (or 95%) for normality tests.\n",
    "\n",
    "+ $\\alpha$ = 0.05\n",
    "\n",
    "We use scipy's normtest function, which is based on D’Agostino and Pearson’s test of normality.  Given a sample, the normtest function will calculate and return:\n",
    "\n",
    "1. k2 (Test Statistic) : $s^2 + k^2$, where $s$ is the z-score returned by skewtest and $k$ is the z-score returned by kurtosistest; and\n",
    "2. p-value : A 2-sided chi squared probability for the hypothesis test."
   ]
  },
  {
   "cell_type": "code",
   "execution_count": 9,
   "metadata": {
    "collapsed": true
   },
   "outputs": [],
   "source": [
    "tmp = df.temperature"
   ]
  },
  {
   "cell_type": "code",
   "execution_count": 10,
   "metadata": {},
   "outputs": [
    {
     "data": {
      "text/plain": [
       "<matplotlib.axes._subplots.AxesSubplot at 0x11b255400>"
      ]
     },
     "execution_count": 10,
     "metadata": {},
     "output_type": "execute_result"
    },
    {
     "data": {
      "image/png": "[encoded data removed]",
      "text/plain": [
       "<matplotlib.figure.Figure at 0x11b2196d8>"
      ]
     },
     "metadata": {},
     "output_type": "display_data"
    }
   ],
   "source": [
    "# Does the distribution of our sample of body temperatures look like a normal distribution?\n",
    "sns.distplot(tmp, bins=20)"
   ]
  },
  {
   "cell_type": "code",
   "execution_count": 11,
   "metadata": {},
   "outputs": [
    {
     "data": {
      "text/html": [
       "<div>\n",
       "<style>\n",
       "    .dataframe thead tr:only-child th {\n",
       "        text-align: right;\n",
       "    }\n",
       "\n",
       "    .dataframe thead th {\n",
       "        text-align: left;\n",
       "    }\n",
       "\n",
       "    .dataframe tbody tr th {\n",
       "        vertical-align: top;\n",
       "    }\n",
       "</style>\n",
       "<table border=\"1\" class=\"dataframe\">\n",
       "  <thead>\n",
       "    <tr style=\"text-align: right;\">\n",
       "      <th></th>\n",
       "      <th>Results</th>\n",
       "    </tr>\n",
       "  </thead>\n",
       "  <tbody>\n",
       "    <tr>\n",
       "      <th>p-value</th>\n",
       "      <td>0.258748</td>\n",
       "    </tr>\n",
       "    <tr>\n",
       "      <th>Test Statistic</th>\n",
       "      <td>2.703801</td>\n",
       "    </tr>\n",
       "  </tbody>\n",
       "</table>\n",
       "</div>"
      ],
      "text/plain": [
       "                 Results\n",
       "p-value         0.258748\n",
       "Test Statistic  2.703801"
      ]
     },
     "execution_count": 11,
     "metadata": {},
     "output_type": "execute_result"
    }
   ],
   "source": [
    "# Use D’Agostino and Pearson’s test of normality.\n",
    "normaltest_results = stats.mstats.normaltest(tmp)\n",
    "normaltest_results_df = pd.DataFrame([normaltest_results[1], normaltest_results[0]],\n",
    "                                     ['p-value', 'Test Statistic'], \n",
    "                                     columns={'Results'})\n",
    "normaltest_results_df"
   ]
  },
  {
   "cell_type": "markdown",
   "metadata": {},
   "source": [
    "Find the critical value for the ${\\chi}^2$ distribution with 2 degrees of freedom ($k=2$) and assuming a significance level of $\\alpha$ = 0.05"
   ]
  },
  {
   "cell_type": "code",
   "execution_count": 12,
   "metadata": {},
   "outputs": [
    {
     "data": {
      "text/plain": [
       "5.9914645471079817"
      ]
     },
     "execution_count": 12,
     "metadata": {},
     "output_type": "execute_result"
    }
   ],
   "source": [
    "alpha = 0.05\n",
    "\n",
    "# isf: Inverse Survival Function (Inverse of SF), where\n",
    "# sf: Survival Function (1-CDF)\n",
    "\n",
    "chi_sqr_crit = stats.chi2.isf(alpha, 2)\n",
    "chi_sqr_crit"
   ]
  },
  {
   "cell_type": "markdown",
   "metadata": {},
   "source": [
    "If the test statistic is greater than or equal to the critical value, then we reject the null-hypothesis (and conclude that the population is not normally distributed).\n",
    "\n",
    "If the test statistic is less than the critical value, then we cannot reject the null-hypothesis (and conclude that the population may be normally distributed)."
   ]
  },
  {
   "cell_type": "code",
   "execution_count": 44,
   "metadata": {},
   "outputs": [
    {
     "name": "stdout",
     "output_type": "stream",
     "text": [
      "\t Critical value = 5.991 \n",
      " \t Test statistic = 2.704 \n",
      " \t 2.704  <  5.991 \n",
      " \t Cannot reject the null-hypothesis \n",
      " \t Conclude that the population is may be normally distributed\n"
     ]
    }
   ],
   "source": [
    "if (normaltest_results_df.loc['Test Statistic'][0] >= chi_sqr_crit):\n",
    "    print('\\t', 'Critical value = {0:.3f}'.format(chi_sqr_crit), '\\n',\n",
    "          '\\t', 'Test statistic = {0:.3f}'.format(normaltest_results_df.loc['Test Statistic'][0]), '\\n',\n",
    "          '\\t', '{0:.3f}'.format(normaltest_results_df.loc['Test Statistic'][0]), \n",
    "          ' >= ', '{0:.3f}'.format(chi_sqr_crit), '\\n',\n",
    "          '\\t', 'Reject the null-hypothesis', '\\n', \n",
    "          '\\t', 'Conclude that the population is not normally distributed')\n",
    "else:\n",
    "    print('\\t', 'Critical value = {0:.3f}'.format(chi_sqr_crit), '\\n',\n",
    "          '\\t', 'Test statistic = {0:.3f}'.format(normaltest_results_df.loc['Test Statistic'][0]), '\\n',\n",
    "          '\\t', '{0:.3f}'.format(normaltest_results_df.loc['Test Statistic'][0]), \n",
    "          ' < ', '{0:.3f}'.format(chi_sqr_crit), '\\n',\n",
    "          '\\t', 'Cannot reject the null-hypothesis', '\\n',\n",
    "          '\\t', 'Conclude that the population is may be normally distributed')\n"
   ]
  },
  {
   "cell_type": "markdown",
   "metadata": {},
   "source": [
    "We cannot reject the null-hypothesis that the population of body temperatures has skewness equal to 0 and has excess kurtosis equal to 0. We conclude that the population may be normally distributed."
   ]
  },
  {
   "cell_type": "markdown",
   "metadata": {},
   "source": [
    "Next, we'll plot:\n",
    "+ The pdf of the  ${\\chi}_{k=2}^2$ distribution;\n",
    "+ The critical value for the ${\\chi}_{k=2}^2$ distribution (assuming $\\alpha$ = 0.05); and\n",
    "+ The test statistic."
   ]
  },
  {
   "cell_type": "code",
   "execution_count": 14,
   "metadata": {},
   "outputs": [
    {
     "data": {
      "image/png": "[encoded data removed]",
      "text/plain": [
       "<matplotlib.figure.Figure at 0x11d8dc4a8>"
      ]
     },
     "metadata": {},
     "output_type": "display_data"
    }
   ],
   "source": [
    "my_linspace = np.linspace(start=0, stop=10, num=100)\n",
    "\n",
    "my_pdf = stats.chi2.pdf(my_linspace, 2)\n",
    "\n",
    "my_linspace_crit = np.linspace(start=chi_sqr_crit, stop=10, num=100)\n",
    "\n",
    "my_pdf_crit = stats.chi2.pdf(my_linspace_crit, 2)\n",
    "\n",
    "fig, ax = plt.subplots(figsize=(10, 6))\n",
    "ax.plot(my_linspace, my_pdf, linewidth=2)\n",
    "\n",
    "crit_label = 'Critical Value = ' + '{0:.3f}'.format(chi_sqr_crit)\n",
    "\n",
    "ax.fill_between(my_linspace_crit, 0, my_pdf_crit, facecolor='red', label=crit_label)\n",
    "\n",
    "ts = normaltest_results_df.loc['Test Statistic'][0]\n",
    "ts_y = stats.chi2.pdf(ts, 2)\n",
    "ts_label = 'Test Statistic = ' + '{0:.3f}'.format(ts)\n",
    "ax.plot([ts, ts], [0, ts_y], 'k--', linewidth=2, label=ts_label)\n",
    "\n",
    "sns.set_style(\"darkgrid\")   \n",
    "plt.xlabel('$x$')\n",
    "plt.ylabel('$f(x)$')\n",
    "\n",
    "plt.title('PDF of ${\\chi}_{k=2}^2$')\n",
    "# k: degrees of freedom\n",
    "\n",
    "\n",
    "ax.annotate(crit_label, \n",
    "            xy=(chi_sqr_crit, stats.chi2.pdf(chi_sqr_crit, 2)), \n",
    "            xytext=(chi_sqr_crit, 0.3), \n",
    "            arrowprops=dict(facecolor='k', \n",
    "                            width=1,\n",
    "                            headwidth=7.5,\n",
    "                            shrink=0.1))\n",
    "\n",
    "ax.annotate(ts_label, \n",
    "            xy=(ts, ts_y), \n",
    "            xytext=(ts, 0.4), \n",
    "            arrowprops=dict(facecolor='k', \n",
    "                            width=1,\n",
    "                            headwidth=7.5,\n",
    "                            shrink=0.1))\n",
    "\n",
    "annotations = [child for child in ax.get_children() \n",
    "               if isinstance(child, matplotlib.text.Annotation)]\n",
    "\n",
    "for item in ([ax.title, ax.xaxis.label, ax.yaxis.label] + annotations + \n",
    "             ax.get_xticklabels() + ax.get_yticklabels()):\n",
    "    item.set_fontsize(14)\n",
    "    \n",
    "plt.show()"
   ]
  },
  {
   "cell_type": "markdown",
   "metadata": {
    "collapsed": true
   },
   "source": [
    "We cannot reject the null-hypothesis, and we conclude that the population may be normally distributed."
   ]
  },
  {
   "cell_type": "markdown",
   "metadata": {
    "collapsed": true
   },
   "source": [
    "\n",
    "## 2. Is the sample size large? Are the observations independent?\n",
    "\n",
    "Remember that this is a condition for the CLT, and hence the statistical tests we are using, to apply. \n",
    "\n"
   ]
  },
  {
   "cell_type": "markdown",
   "metadata": {
    "collapsed": true
   },
   "source": [
    "???"
   ]
  },
  {
   "cell_type": "markdown",
   "metadata": {
    "collapsed": true
   },
   "source": [
    "http://www.itl.nist.gov/div898/handbook/prc/section2/prc222.htm"
   ]
  },
  {
   "cell_type": "code",
   "execution_count": null,
   "metadata": {
    "collapsed": true
   },
   "outputs": [],
   "source": []
  },
  {
   "cell_type": "markdown",
   "metadata": {},
   "source": [
    ".....\n",
    "$\\delta = \\sigma/N$ = "
   ]
  },
  {
   "cell_type": "code",
   "execution_count": null,
   "metadata": {
    "collapsed": true
   },
   "outputs": [],
   "source": [
    "def function(delta=None , variance=None):\n",
    "    "
   ]
  },
  {
   "cell_type": "code",
   "execution_count": null,
   "metadata": {
    "collapsed": true
   },
   "outputs": [],
   "source": [
    "print(math.ceil(4.2))"
   ]
  },
  {
   "cell_type": "code",
   "execution_count": null,
   "metadata": {
    "collapsed": true
   },
   "outputs": [],
   "source": []
  },
  {
   "cell_type": "code",
   "execution_count": null,
   "metadata": {
    "collapsed": true
   },
   "outputs": [],
   "source": []
  },
  {
   "cell_type": "code",
   "execution_count": null,
   "metadata": {
    "collapsed": true
   },
   "outputs": [],
   "source": []
  },
  {
   "cell_type": "markdown",
   "metadata": {
    "collapsed": true
   },
   "source": [
    "# ....."
   ]
  },
  {
   "cell_type": "code",
   "execution_count": 15,
   "metadata": {},
   "outputs": [
    {
     "name": "stdout",
     "output_type": "stream",
     "text": [
      "Sample skewness:  -0.004367976879081625\n",
      "Sample kurtosis :  0.7049597854114693\n"
     ]
    }
   ],
   "source": [
    "actual_skewness = stats.skew(tmp)\n",
    "actual_kurtosis = stats.kurtosis(tmp)\n",
    "print('Sample skewness: ', actual_skewness)\n",
    "print('Sample kurtosis : ', actual_kurtosis)"
   ]
  },
  {
   "cell_type": "code",
   "execution_count": 16,
   "metadata": {
    "collapsed": true
   },
   "outputs": [],
   "source": [
    "# Simulate by resampling with replacement"
   ]
  },
  {
   "cell_type": "code",
   "execution_count": 17,
   "metadata": {
    "collapsed": true
   },
   "outputs": [],
   "source": [
    "def simulate_skew_and_kurt(data=None, iters=1000):\n",
    "    \"\"\"Run the model of the null hypothesis.\n",
    "\n",
    "    returns: simulated data\n",
    "    \"\"\"\n",
    "    \n",
    "    data_np = np.array(data)\n",
    "    n = len(data)\n",
    "    \n",
    "    data_skewness = np.zeros((iters,))\n",
    "    data_kurtosis = np.empty((iters,))\n",
    "\n",
    "    for i in range(iters):\n",
    "        data_np = np.random.choice(data,\n",
    "                         size=n,\n",
    "                         replace=True)\n",
    "        \n",
    "        data_skewness[i] = np.array(stats.skew(data_np)) \n",
    "        data_kurtosis[i] = np.array(stats.kurtosis(data_np))\n",
    "        \n",
    "    return data_skewness, data_kurtosis"
   ]
  },
  {
   "cell_type": "code",
   "execution_count": 18,
   "metadata": {
    "collapsed": true
   },
   "outputs": [],
   "source": [
    "data_skewness, data_kurtosis = simulate_skew_and_kurt(tmp, iters=10000)\n",
    "\n",
    "pvalue_skew = sum(data_skewness >= actual_skewness) / len(data_skewness)\n",
    "\n",
    "pvalue_kurt = sum(data_kurtosis >= actual_kurtosis) / len(data_kurtosis)\n",
    "\n",
    "pvalue_skew_kurt = sum((data_skewness >= actual_skewness) & \n",
    "                       (data_kurtosis >= actual_kurtosis)) / len(data_skewness)"
   ]
  },
  {
   "cell_type": "code",
   "execution_count": 19,
   "metadata": {},
   "outputs": [
    {
     "data": {
      "text/plain": [
       "(0.46529999999999999, 0.42830000000000001, 0.31380000000000002)"
      ]
     },
     "execution_count": 19,
     "metadata": {},
     "output_type": "execute_result"
    }
   ],
   "source": [
    "pvalue_skew, pvalue_kurt, pvalue_skew_kurt"
   ]
  },
  {
   "cell_type": "code",
   "execution_count": 20,
   "metadata": {},
   "outputs": [
    {
     "data": {
      "text/plain": [
       "<matplotlib.axes._subplots.AxesSubplot at 0x11dc7b630>"
      ]
     },
     "execution_count": 20,
     "metadata": {},
     "output_type": "execute_result"
    },
    {
     "data": {
      "image/png": "[encoded data removed]",
      "text/plain": [
       "<matplotlib.figure.Figure at 0x11dc898d0>"
      ]
     },
     "metadata": {},
     "output_type": "display_data"
    }
   ],
   "source": [
    "sns.distplot(data_skewness, bins=20)"
   ]
  },
  {
   "cell_type": "code",
   "execution_count": 21,
   "metadata": {},
   "outputs": [
    {
     "data": {
      "text/plain": [
       "<matplotlib.axes._subplots.AxesSubplot at 0x11de7ddd8>"
      ]
     },
     "execution_count": 21,
     "metadata": {},
     "output_type": "execute_result"
    },
    {
     "data": {
      "image/png": "[encoded data removed]",
      "text/plain": [
       "<matplotlib.figure.Figure at 0x11df3beb8>"
      ]
     },
     "metadata": {},
     "output_type": "display_data"
    }
   ],
   "source": [
    "sns.distplot(data_kurtosis, bins=20)"
   ]
  },
  {
   "cell_type": "code",
   "execution_count": null,
   "metadata": {
    "collapsed": true
   },
   "outputs": [],
   "source": []
  },
  {
   "cell_type": "code",
   "execution_count": null,
   "metadata": {
    "collapsed": true
   },
   "outputs": [],
   "source": []
  },
  {
   "cell_type": "code",
   "execution_count": 22,
   "metadata": {},
   "outputs": [
    {
     "data": {
      "image/png": "[encoded data removed]",
      "text/plain": [
       "<matplotlib.figure.Figure at 0x11d969358>"
      ]
     },
     "metadata": {},
     "output_type": "display_data"
    }
   ],
   "source": [
    "ax = sns.regplot(x=df.heart_rate, y=df.temperature, color=\"g\")"
   ]
  },
  {
   "cell_type": "code",
   "execution_count": null,
   "metadata": {
    "collapsed": true
   },
   "outputs": [],
   "source": []
  },
  {
   "cell_type": "code",
   "execution_count": null,
   "metadata": {
    "collapsed": true
   },
   "outputs": [],
   "source": []
  },
  {
   "cell_type": "markdown",
   "metadata": {},
   "source": [
    "## 3.  Is the true population mean really 98.6 degrees F?\n",
    "\n",
    "+ 3.1 Would you use a one-sample or two-sample test? Why?\n",
    "+ 3.2 In this situation, is it appropriate to use the $t$ or $z$ statistic? \n",
    "+ 3.3 Now try using the other test. How is the result be different? Why?\n"
   ]
  },
  {
   "cell_type": "markdown",
   "metadata": {},
   "source": [
    "### 3.1 Would you use a one-sample or two-sample test? Why?\n",
    "\n",
    "To test if the true population mean is equal to a specific value (*namely*, 98.6 degrees fahrenheit), one would use a one-sample test.\n",
    "\n",
    "Specifically, one would use a two-tailed one-sample test.\n",
    "\n",
    "The test that the mean for a sample is equal to a specified value can be formulated as follows:\n",
    "\n",
    "+ $H_0$: \t$\\mu =$ [specific value]\n",
    "+ $H_1$: \t$\\mu \\neq$ [specific value]\n",
    "\n",
    "A two-sample test would used to determine if two population means are equal (*e.g.*, to test if the population mean for men is equal to the population mean for women).  Therefore,two-sample test does not fit this problem (testing whether or not the true population mean is equal to 98.6 degrees fahrenheit).\n",
    "\n",
    "\n",
    "References:\n",
    "+ http://www.itl.nist.gov/div898/handbook/eda/section3/eda353.htm\n",
    "+ http://www.itl.nist.gov/div898/software/dataplot/refman1/auxillar/t_test.htm\n",
    "+ http://www.statisticssolutions.com/manova-analysis-one-sample-t-test/"
   ]
  },
  {
   "cell_type": "markdown",
   "metadata": {},
   "source": [
    "### 3.2 In this situation, is it appropriate to use the $t$ or $z$ statistic? \n",
    "\n",
    "\n",
    "\n"
   ]
  },
  {
   "cell_type": "code",
   "execution_count": null,
   "metadata": {
    "collapsed": true
   },
   "outputs": [],
   "source": []
  },
  {
   "cell_type": "code",
   "execution_count": null,
   "metadata": {
    "collapsed": true
   },
   "outputs": [],
   "source": []
  },
  {
   "cell_type": "code",
   "execution_count": null,
   "metadata": {
    "collapsed": true
   },
   "outputs": [],
   "source": []
  },
  {
   "cell_type": "code",
   "execution_count": null,
   "metadata": {
    "collapsed": true
   },
   "outputs": [],
   "source": []
  },
  {
   "cell_type": "code",
   "execution_count": null,
   "metadata": {
    "collapsed": true
   },
   "outputs": [],
   "source": []
  },
  {
   "cell_type": "code",
   "execution_count": null,
   "metadata": {
    "collapsed": true
   },
   "outputs": [],
   "source": []
  },
  {
   "cell_type": "markdown",
   "metadata": {
    "collapsed": true
   },
   "source": [
    "## 5. Is there a significant difference between males and females in normal temperature?\n",
    "\n",
    "    What test did you use and why?\n",
    "    Write a story with your conclusion in the context of the original problem. "
   ]
  },
  {
   "cell_type": "code",
   "execution_count": 23,
   "metadata": {
    "collapsed": true
   },
   "outputs": [],
   "source": [
    "# Divide the sample into body temperatures from males and females.\n",
    "tmp_m = df[df.gender == 'M'].temperature\n",
    "tmp_f = df[df.gender == 'F'].temperature"
   ]
  },
  {
   "cell_type": "code",
   "execution_count": 24,
   "metadata": {},
   "outputs": [
    {
     "data": {
      "text/plain": [
       "<matplotlib.axes._subplots.AxesSubplot at 0x11e0906a0>"
      ]
     },
     "execution_count": 24,
     "metadata": {},
     "output_type": "execute_result"
    },
    {
     "data": {
      "image/png": "[encoded data removed]",
      "text/plain": [
       "<matplotlib.figure.Figure at 0x11e0a1048>"
      ]
     },
     "metadata": {},
     "output_type": "display_data"
    }
   ],
   "source": [
    "# Visualize the two sample distributions\n",
    "fig, ax = plt.subplots(figsize=(10, 6))\n",
    "sns.distplot(tmp_m, bins=20, ax=ax)\n",
    "sns.distplot(tmp_f, bins=20, ax=ax)"
   ]
  },
  {
   "cell_type": "code",
   "execution_count": 25,
   "metadata": {
    "collapsed": true
   },
   "outputs": [],
   "source": [
    "tmp_m = df[df.gender == 'M'].temperature\n",
    "tmp_f = df[df.gender == 'F'].temperature"
   ]
  },
  {
   "cell_type": "code",
   "execution_count": 26,
   "metadata": {},
   "outputs": [
    {
     "data": {
      "text/plain": [
       "65"
      ]
     },
     "execution_count": 26,
     "metadata": {},
     "output_type": "execute_result"
    }
   ],
   "source": [
    "len(tmp_m)"
   ]
  },
  {
   "cell_type": "code",
   "execution_count": 27,
   "metadata": {},
   "outputs": [
    {
     "data": {
      "text/plain": [
       "65"
      ]
     },
     "execution_count": 27,
     "metadata": {},
     "output_type": "execute_result"
    }
   ],
   "source": [
    "len(tmp_f)"
   ]
  },
  {
   "cell_type": "code",
   "execution_count": 28,
   "metadata": {
    "collapsed": true
   },
   "outputs": [],
   "source": [
    "actual_dif_mean = abs(tmp_m.mean() - tmp_f.mean())\n",
    "actual_dif_std = abs(tmp_m.std() - tmp_f.std())\n",
    "actual_dif_skew = abs(stats.skew(tmp_m) - stats.skew(tmp_f))\n",
    "actual_dif_kurtosis = abs(stats.kurtosis(tmp_m) - stats.kurtosis(tmp_f))"
   ]
  },
  {
   "cell_type": "code",
   "execution_count": null,
   "metadata": {
    "collapsed": true
   },
   "outputs": [],
   "source": []
  },
  {
   "cell_type": "code",
   "execution_count": null,
   "metadata": {
    "collapsed": true
   },
   "outputs": [],
   "source": []
  },
  {
   "cell_type": "code",
   "execution_count": null,
   "metadata": {
    "collapsed": true
   },
   "outputs": [],
   "source": []
  },
  {
   "cell_type": "code",
   "execution_count": 29,
   "metadata": {
    "collapsed": true
   },
   "outputs": [],
   "source": [
    "def simulate(data=None, iters=1000):\n",
    "    \"\"\"Run the model of the null hypothesis.\n",
    "\n",
    "    returns: simulated data\n",
    "    \"\"\"\n",
    "    \n",
    "    data_np = np.array(data)\n",
    "    n = len(data)\n",
    "    n_half = int(n/2)\n",
    "\n",
    "    data_mean = np.zeros((iters,))\n",
    "    data_std = np.zeros((iters,))\n",
    "    data_skew = np.zeros((iters,))\n",
    "    data_kurtosis = np.zeros((iters,))\n",
    "\n",
    "    for i in range(iters):\n",
    "        data_shuffle = np.random.choice(data_np,\n",
    "                         size=n,\n",
    "                         replace=True)\n",
    "        \n",
    "        group1, group2 = data_shuffle[:n_half], data_shuffle[n_half:]\n",
    "        \n",
    "        dif_mean = abs(group1.mean() - group2.mean())\n",
    "        dif_std = abs(group1.std() - group2.std())\n",
    "        dif_skew = abs(stats.skew(group1) - stats.skew(group2))\n",
    "        dif_kurtosis = abs(stats.kurtosis(group1) - stats.kurtosis(group2))\n",
    "\n",
    "        data_mean[i] = dif_mean\n",
    "        data_std[i] = dif_std\n",
    "        data_skew[i] = dif_skew\n",
    "        data_kurtosis[i] = dif_kurtosis\n",
    "        \n",
    "    output_df = pd.DataFrame([data_mean,data_std,data_skew,data_kurtosis], \n",
    "                             ['data_mean','data_std','data_skew','data_kurtosis'])\n",
    "    output_df = output_df.T\n",
    "                             \n",
    "    return output_df"
   ]
  },
  {
   "cell_type": "code",
   "execution_count": 30,
   "metadata": {
    "collapsed": true
   },
   "outputs": [],
   "source": [
    "sim = simulate(tmp)"
   ]
  },
  {
   "cell_type": "code",
   "execution_count": 31,
   "metadata": {},
   "outputs": [
    {
     "data": {
      "text/plain": [
       "<matplotlib.axes._subplots.AxesSubplot at 0x11e5496d8>"
      ]
     },
     "execution_count": 31,
     "metadata": {},
     "output_type": "execute_result"
    },
    {
     "data": {
      "image/png": "[encoded data removed]",
      "text/plain": [
       "<matplotlib.figure.Figure at 0x11e54e748>"
      ]
     },
     "metadata": {},
     "output_type": "display_data"
    }
   ],
   "source": [
    "sim.data_mean.hist()"
   ]
  },
  {
   "cell_type": "code",
   "execution_count": 32,
   "metadata": {},
   "outputs": [
    {
     "data": {
      "text/plain": [
       "0.021000000000000001"
      ]
     },
     "execution_count": 32,
     "metadata": {},
     "output_type": "execute_result"
    }
   ],
   "source": [
    "pvalue_mean = sum(sim.data_mean >= actual_dif_mean) / len(sim.data_mean)\n",
    "pvalue_mean"
   ]
  },
  {
   "cell_type": "code",
   "execution_count": 33,
   "metadata": {},
   "outputs": [
    {
     "data": {
      "text/plain": [
       "0.66900000000000004"
      ]
     },
     "execution_count": 33,
     "metadata": {},
     "output_type": "execute_result"
    }
   ],
   "source": [
    "pvalue_std = sum(sim.data_std >= actual_dif_std) / len(sim.data_std)\n",
    "pvalue_std"
   ]
  },
  {
   "cell_type": "code",
   "execution_count": 34,
   "metadata": {},
   "outputs": [
    {
     "data": {
      "text/plain": [
       "0.61099999999999999"
      ]
     },
     "execution_count": 34,
     "metadata": {},
     "output_type": "execute_result"
    }
   ],
   "source": [
    "pvalue_skew = sum(sim.data_skew >= actual_dif_skew) / len(sim.data_skew)\n",
    "pvalue_skew"
   ]
  },
  {
   "cell_type": "code",
   "execution_count": 35,
   "metadata": {},
   "outputs": [
    {
     "data": {
      "text/plain": [
       "0.10199999999999999"
      ]
     },
     "execution_count": 35,
     "metadata": {},
     "output_type": "execute_result"
    }
   ],
   "source": [
    "pvalue_kurtosis = sum(sim.data_kurtosis >= actual_dif_kurtosis) / len(sim.data_kurtosis)\n",
    "pvalue_kurtosis"
   ]
  },
  {
   "cell_type": "code",
   "execution_count": null,
   "metadata": {
    "collapsed": true
   },
   "outputs": [],
   "source": []
  }
 ],
 "metadata": {
  "kernelspec": {
   "display_name": "Python 3",
   "language": "python",
   "name": "python3"
  },
  "language_info": {
   "codemirror_mode": {
    "name": "ipython",
    "version": 3
   },
   "file_extension": ".py",
   "mimetype": "text/x-python",
   "name": "python",
   "nbconvert_exporter": "python",
   "pygments_lexer": "ipython3",
   "version": "3.6.1"
  }
 },
 "nbformat": 4,
 "nbformat_minor": 1
}
