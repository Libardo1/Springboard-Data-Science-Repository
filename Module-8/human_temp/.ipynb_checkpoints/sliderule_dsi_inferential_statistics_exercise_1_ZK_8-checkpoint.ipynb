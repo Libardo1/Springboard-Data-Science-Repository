{
 "cells": [
  {
   "cell_type": "markdown",
   "metadata": {},
   "source": [
    "# What is the True Normal Human Body Temperature? \n",
    "\n",
    "#### Background\n",
    "\n",
    "The mean normal body temperature was held to be 37$^{\\circ}$C or 98.6$^{\\circ}$F for more than 120 years since it was first conceptualized and reported by Carl Wunderlich in a famous 1868 book. But, is this value statistically correct?"
   ]
  },
  {
   "cell_type": "markdown",
   "metadata": {},
   "source": [
    "<div class=\"span5 alert alert-info\">\n",
    "<h3>Exercises</h3>\n",
    "\n",
    "<p>In this exercise, you will analyze a dataset of human body temperatures and employ the concepts of hypothesis testing, confidence intervals, and statistical significance.</p>\n",
    "\n",
    "<p>Answer the following questions <b>in this notebook below and submit to your Github account</b>.</p> \n",
    "\n",
    "<ol>\n",
    "<li>  Is the distribution of body temperatures normal? \n",
    "    <ul>\n",
    "    <li> Although this is not a requirement for CLT to hold (read CLT carefully), it gives us some peace of mind that the population may also be normally distributed if we assume that this sample is representative of the population.\n",
    "    </ul>\n",
    "<li>  Is the sample size large? Are the observations independent?\n",
    "    <ul>\n",
    "    <li> Remember that this is a condition for the CLT, and hence the statistical tests we are using, to apply.\n",
    "    </ul>\n",
    "<li>  Is the true population mean really 98.6 degrees F?\n",
    "    <ul>\n",
    "    <li> Would you use a one-sample or two-sample test? Why?\n",
    "    <li> In this situation, is it appropriate to use the $t$ or $z$ statistic? \n",
    "    <li> Now try using the other test. How is the result different? Why?\n",
    "    </ul>\n",
    "<li>  At what temperature should we consider someone's temperature to be \"abnormal\"?\n",
    "    <ul>\n",
    "    <li> Start by computing the margin of error and confidence interval.\n",
    "    </ul>\n",
    "<li>  Is there a significant difference between males and females in normal temperature?\n",
    "    <ul>\n",
    "    <li> What test did you use and why?\n",
    "    <li> Write a story with your conclusion in the context of the original problem.\n",
    "    </ul>\n",
    "</ol>\n",
    "\n",
    "You can include written notes in notebook cells using Markdown: \n",
    "   - In the control panel at the top, choose Cell > Cell Type > Markdown\n",
    "   - Markdown syntax: http://nestacms.com/docs/creating-content/markdown-cheat-sheet\n",
    "\n",
    "#### Resources\n",
    "\n",
    "+ Information and data sources: http://www.amstat.org/publications/jse/datasets/normtemp.txt, http://www.amstat.org/publications/jse/jse_data_archive.htm\n",
    "+ Markdown syntax: http://nestacms.com/docs/creating-content/markdown-cheat-sheet\n",
    "\n",
    "****\n",
    "</div>"
   ]
  },
  {
   "cell_type": "code",
   "execution_count": 1,
   "metadata": {
    "collapsed": true
   },
   "outputs": [],
   "source": [
    "import pandas as pd\n",
    "\n",
    "df = pd.read_csv('data/human_body_temperature.csv')"
   ]
  },
  {
   "cell_type": "code",
   "execution_count": 2,
   "metadata": {
    "collapsed": true
   },
   "outputs": [],
   "source": [
    "# Your work here."
   ]
  },
  {
   "cell_type": "markdown",
   "metadata": {},
   "source": [
    "### Import additional libraries"
   ]
  },
  {
   "cell_type": "code",
   "execution_count": 3,
   "metadata": {
    "collapsed": true
   },
   "outputs": [],
   "source": [
    "import seaborn as sns\n",
    "import numpy as np\n",
    "from scipy import stats\n",
    "import math\n",
    "import itertools\n",
    "\n",
    "import matplotlib\n",
    "from matplotlib import pyplot as plt\n",
    "%matplotlib inline"
   ]
  },
  {
   "cell_type": "markdown",
   "metadata": {},
   "source": [
    "### Inspect the data"
   ]
  },
  {
   "cell_type": "code",
   "execution_count": 4,
   "metadata": {},
   "outputs": [
    {
     "data": {
      "text/html": [
       "<div>\n",
       "<style>\n",
       "    .dataframe thead tr:only-child th {\n",
       "        text-align: right;\n",
       "    }\n",
       "\n",
       "    .dataframe thead th {\n",
       "        text-align: left;\n",
       "    }\n",
       "\n",
       "    .dataframe tbody tr th {\n",
       "        vertical-align: top;\n",
       "    }\n",
       "</style>\n",
       "<table border=\"1\" class=\"dataframe\">\n",
       "  <thead>\n",
       "    <tr style=\"text-align: right;\">\n",
       "      <th></th>\n",
       "      <th>temperature</th>\n",
       "      <th>gender</th>\n",
       "      <th>heart_rate</th>\n",
       "    </tr>\n",
       "  </thead>\n",
       "  <tbody>\n",
       "    <tr>\n",
       "      <th>0</th>\n",
       "      <td>99.3</td>\n",
       "      <td>F</td>\n",
       "      <td>68.0</td>\n",
       "    </tr>\n",
       "    <tr>\n",
       "      <th>1</th>\n",
       "      <td>98.4</td>\n",
       "      <td>F</td>\n",
       "      <td>81.0</td>\n",
       "    </tr>\n",
       "    <tr>\n",
       "      <th>2</th>\n",
       "      <td>97.8</td>\n",
       "      <td>M</td>\n",
       "      <td>73.0</td>\n",
       "    </tr>\n",
       "    <tr>\n",
       "      <th>3</th>\n",
       "      <td>99.2</td>\n",
       "      <td>F</td>\n",
       "      <td>66.0</td>\n",
       "    </tr>\n",
       "    <tr>\n",
       "      <th>4</th>\n",
       "      <td>98.0</td>\n",
       "      <td>F</td>\n",
       "      <td>73.0</td>\n",
       "    </tr>\n",
       "  </tbody>\n",
       "</table>\n",
       "</div>"
      ],
      "text/plain": [
       "   temperature gender  heart_rate\n",
       "0         99.3      F        68.0\n",
       "1         98.4      F        81.0\n",
       "2         97.8      M        73.0\n",
       "3         99.2      F        66.0\n",
       "4         98.0      F        73.0"
      ]
     },
     "execution_count": 4,
     "metadata": {},
     "output_type": "execute_result"
    }
   ],
   "source": [
    "df.head()"
   ]
  },
  {
   "cell_type": "code",
   "execution_count": 5,
   "metadata": {},
   "outputs": [
    {
     "data": {
      "text/plain": [
       "130"
      ]
     },
     "execution_count": 5,
     "metadata": {},
     "output_type": "execute_result"
    }
   ],
   "source": [
    "# How many rows does the DataFrame have?\n",
    "len(df)"
   ]
  },
  {
   "cell_type": "code",
   "execution_count": 6,
   "metadata": {},
   "outputs": [
    {
     "data": {
      "text/plain": [
       "temperature    False\n",
       "gender         False\n",
       "heart_rate     False\n",
       "dtype: bool"
      ]
     },
     "execution_count": 6,
     "metadata": {},
     "output_type": "execute_result"
    }
   ],
   "source": [
    "# Does the DataFrame contain any null values?\n",
    "df.any().isnull()"
   ]
  },
  {
   "cell_type": "code",
   "execution_count": 7,
   "metadata": {},
   "outputs": [
    {
     "data": {
      "text/html": [
       "<div>\n",
       "<style>\n",
       "    .dataframe thead tr:only-child th {\n",
       "        text-align: right;\n",
       "    }\n",
       "\n",
       "    .dataframe thead th {\n",
       "        text-align: left;\n",
       "    }\n",
       "\n",
       "    .dataframe tbody tr th {\n",
       "        vertical-align: top;\n",
       "    }\n",
       "</style>\n",
       "<table border=\"1\" class=\"dataframe\">\n",
       "  <thead>\n",
       "    <tr style=\"text-align: right;\">\n",
       "      <th></th>\n",
       "      <th>temperature</th>\n",
       "      <th>heart_rate</th>\n",
       "    </tr>\n",
       "  </thead>\n",
       "  <tbody>\n",
       "    <tr>\n",
       "      <th>count</th>\n",
       "      <td>130.000000</td>\n",
       "      <td>130.000000</td>\n",
       "    </tr>\n",
       "    <tr>\n",
       "      <th>mean</th>\n",
       "      <td>98.249231</td>\n",
       "      <td>73.761538</td>\n",
       "    </tr>\n",
       "    <tr>\n",
       "      <th>std</th>\n",
       "      <td>0.733183</td>\n",
       "      <td>7.062077</td>\n",
       "    </tr>\n",
       "    <tr>\n",
       "      <th>min</th>\n",
       "      <td>96.300000</td>\n",
       "      <td>57.000000</td>\n",
       "    </tr>\n",
       "    <tr>\n",
       "      <th>25%</th>\n",
       "      <td>97.800000</td>\n",
       "      <td>69.000000</td>\n",
       "    </tr>\n",
       "    <tr>\n",
       "      <th>50%</th>\n",
       "      <td>98.300000</td>\n",
       "      <td>74.000000</td>\n",
       "    </tr>\n",
       "    <tr>\n",
       "      <th>75%</th>\n",
       "      <td>98.700000</td>\n",
       "      <td>79.000000</td>\n",
       "    </tr>\n",
       "    <tr>\n",
       "      <th>max</th>\n",
       "      <td>100.800000</td>\n",
       "      <td>89.000000</td>\n",
       "    </tr>\n",
       "  </tbody>\n",
       "</table>\n",
       "</div>"
      ],
      "text/plain": [
       "       temperature  heart_rate\n",
       "count   130.000000  130.000000\n",
       "mean     98.249231   73.761538\n",
       "std       0.733183    7.062077\n",
       "min      96.300000   57.000000\n",
       "25%      97.800000   69.000000\n",
       "50%      98.300000   74.000000\n",
       "75%      98.700000   79.000000\n",
       "max     100.800000   89.000000"
      ]
     },
     "execution_count": 7,
     "metadata": {},
     "output_type": "execute_result"
    }
   ],
   "source": [
    "# Check summary statistics of the data.\n",
    "df.describe()"
   ]
  },
  {
   "cell_type": "code",
   "execution_count": 8,
   "metadata": {},
   "outputs": [
    {
     "data": {
      "text/plain": [
       "F    65\n",
       "M    65\n",
       "Name: gender, dtype: int64"
      ]
     },
     "execution_count": 8,
     "metadata": {},
     "output_type": "execute_result"
    }
   ],
   "source": [
    "# Check if the data set is balanced with respect to gender.\n",
    "df.gender.value_counts()"
   ]
  },
  {
   "cell_type": "markdown",
   "metadata": {},
   "source": [
    "## 1. Is the distribution of body temperatures normal?"
   ]
  },
  {
   "cell_type": "markdown",
   "metadata": {},
   "source": [
    "In our normality test, our null-hypothesis is that the population of body temperatures (from which our sample is taken) is normally distributed. \n",
    "\n",
    "+ The skewness of any univariate normal distribution is 0.\n",
    "\n",
    "+ The kurtosis of any univariate normal distribution is 3.\n",
    "\n",
    "By subtracting 3 from the kurtosis, we can obtain a measure of excess kurtosis (also known as \"Fisher's kurtosis\").  The excess kurtosis of any univariate normal distribution is 0.\n",
    "\n",
    "We can state our null-hypothesis as follows: \n",
    "\n",
    "+ $H_0$ : The population of body temperatures has skewness equal to 0 and has excess kurtosis equal to 0.\n",
    "\n",
    "+ $H_1$ : The population of body temperatures non-zero skewness or has non-zero excess kurtosis.\n",
    "\n",
    "We will assume a significance level of $\\alpha$ = 0.05 (or 95%) for normality tests.\n",
    "\n",
    "+ $\\alpha$ = 0.05\n",
    "\n",
    "We use scipy's normtest function, which is based on D’Agostino and Pearson’s test of normality.  Given a sample, the normtest function will calculate and return:\n",
    "\n",
    "1. k2 (Test Statistic) : $s^2 + k^2$, where $s$ is the z-score returned by skewtest and $k$ is the z-score returned by kurtosistest; and\n",
    "2. p-value : A 2-sided chi squared probability for the hypothesis test."
   ]
  },
  {
   "cell_type": "code",
   "execution_count": 9,
   "metadata": {
    "collapsed": true
   },
   "outputs": [],
   "source": [
    "tmp = df.temperature"
   ]
  },
  {
   "cell_type": "code",
   "execution_count": 10,
   "metadata": {},
   "outputs": [
    {
     "data": {
      "text/plain": [
       "<matplotlib.axes._subplots.AxesSubplot at 0x10b8e5f98>"
      ]
     },
     "execution_count": 10,
     "metadata": {},
     "output_type": "execute_result"
    },
    {
     "data": {
      "image/png": "[encoded data removed]",
      "text/plain": [
       "<matplotlib.figure.Figure at 0x10b8e5748>"
      ]
     },
     "metadata": {},
     "output_type": "display_data"
    }
   ],
   "source": [
    "# Does the distribution of our sample of body temperatures look like a normal distribution?\n",
    "sns.distplot(tmp, bins=20)"
   ]
  },
  {
   "cell_type": "code",
   "execution_count": 11,
   "metadata": {},
   "outputs": [
    {
     "data": {
      "text/html": [
       "<div>\n",
       "<style>\n",
       "    .dataframe thead tr:only-child th {\n",
       "        text-align: right;\n",
       "    }\n",
       "\n",
       "    .dataframe thead th {\n",
       "        text-align: left;\n",
       "    }\n",
       "\n",
       "    .dataframe tbody tr th {\n",
       "        vertical-align: top;\n",
       "    }\n",
       "</style>\n",
       "<table border=\"1\" class=\"dataframe\">\n",
       "  <thead>\n",
       "    <tr style=\"text-align: right;\">\n",
       "      <th></th>\n",
       "      <th>Results</th>\n",
       "    </tr>\n",
       "  </thead>\n",
       "  <tbody>\n",
       "    <tr>\n",
       "      <th>p-value</th>\n",
       "      <td>0.258748</td>\n",
       "    </tr>\n",
       "    <tr>\n",
       "      <th>Test Statistic</th>\n",
       "      <td>2.703801</td>\n",
       "    </tr>\n",
       "  </tbody>\n",
       "</table>\n",
       "</div>"
      ],
      "text/plain": [
       "                 Results\n",
       "p-value         0.258748\n",
       "Test Statistic  2.703801"
      ]
     },
     "execution_count": 11,
     "metadata": {},
     "output_type": "execute_result"
    }
   ],
   "source": [
    "# Use D’Agostino and Pearson’s test of normality.\n",
    "normaltest_results = stats.mstats.normaltest(tmp)\n",
    "normaltest_results_df = pd.DataFrame([normaltest_results[1], normaltest_results[0]],\n",
    "                                     ['p-value', 'Test Statistic'], \n",
    "                                     columns={'Results'})\n",
    "normaltest_results_df"
   ]
  },
  {
   "cell_type": "markdown",
   "metadata": {},
   "source": [
    "Find the critical value for the ${\\chi}^2$ distribution with 2 degrees of freedom ($k=2$) and assuming a significance level of $\\alpha$ = 0.05"
   ]
  },
  {
   "cell_type": "code",
   "execution_count": 12,
   "metadata": {},
   "outputs": [
    {
     "data": {
      "text/plain": [
       "5.9914645471079817"
      ]
     },
     "execution_count": 12,
     "metadata": {},
     "output_type": "execute_result"
    }
   ],
   "source": [
    "alpha = 0.05\n",
    "\n",
    "# isf: Inverse Survival Function (Inverse of SF), where\n",
    "# sf: Survival Function (1-CDF)\n",
    "\n",
    "chi_sqr_crit = stats.chi2.isf(alpha, 2)\n",
    "chi_sqr_crit"
   ]
  },
  {
   "cell_type": "markdown",
   "metadata": {},
   "source": [
    "If the test statistic is greater than or equal to the critical value, then we reject the null-hypothesis (and conclude that the population is not normally distributed).\n",
    "\n",
    "If the test statistic is less than the critical value, then we cannot reject the null-hypothesis (and conclude that the population may be normally distributed)."
   ]
  },
  {
   "cell_type": "code",
   "execution_count": 13,
   "metadata": {},
   "outputs": [
    {
     "name": "stdout",
     "output_type": "stream",
     "text": [
      "\t Critical value = 5.991 \n",
      " \t Test statistic = 2.704 \n",
      " \t 2.704  <  5.991 \n",
      " \t Cannot reject the null-hypothesis \n",
      " \t Conclude that the population is may be normally distributed\n"
     ]
    }
   ],
   "source": [
    "if (normaltest_results_df.loc['Test Statistic'][0] >= chi_sqr_crit):\n",
    "    print('\\t', 'Critical value = {0:.3f}'.format(chi_sqr_crit), '\\n',\n",
    "          '\\t', 'Test statistic = {0:.3f}'.format(normaltest_results_df.loc['Test Statistic'][0]), '\\n',\n",
    "          '\\t', '{0:.3f}'.format(normaltest_results_df.loc['Test Statistic'][0]), \n",
    "          ' >= ', '{0:.3f}'.format(chi_sqr_crit), '\\n',\n",
    "          '\\t', 'Reject the null-hypothesis', '\\n', \n",
    "          '\\t', 'Conclude that the population is not normally distributed')\n",
    "else:\n",
    "    print('\\t', 'Critical value = {0:.3f}'.format(chi_sqr_crit), '\\n',\n",
    "          '\\t', 'Test statistic = {0:.3f}'.format(normaltest_results_df.loc['Test Statistic'][0]), '\\n',\n",
    "          '\\t', '{0:.3f}'.format(normaltest_results_df.loc['Test Statistic'][0]), \n",
    "          ' < ', '{0:.3f}'.format(chi_sqr_crit), '\\n',\n",
    "          '\\t', 'Cannot reject the null-hypothesis', '\\n',\n",
    "          '\\t', 'Conclude that the population is may be normally distributed')\n"
   ]
  },
  {
   "cell_type": "markdown",
   "metadata": {},
   "source": [
    "We cannot reject the null-hypothesis that the population of body temperatures has skewness equal to 0 and has excess kurtosis equal to 0. We conclude that the population may be normally distributed."
   ]
  },
  {
   "cell_type": "markdown",
   "metadata": {},
   "source": [
    "Next, we'll plot:\n",
    "+ The pdf of the  ${\\chi}_{k=2}^2$ distribution;\n",
    "+ The critical value for the ${\\chi}_{k=2}^2$ distribution (assuming $\\alpha$ = 0.05); and\n",
    "+ The test statistic."
   ]
  },
  {
   "cell_type": "code",
   "execution_count": 14,
   "metadata": {},
   "outputs": [
    {
     "data": {
      "image/png": "[encoded data removed]",
      "text/plain": [
       "<matplotlib.figure.Figure at 0x10bb06978>"
      ]
     },
     "metadata": {},
     "output_type": "display_data"
    }
   ],
   "source": [
    "my_linspace = np.linspace(start=0, stop=10, num=100)\n",
    "\n",
    "my_pdf = stats.chi2.pdf(my_linspace, 2)\n",
    "\n",
    "my_linspace_crit = np.linspace(start=chi_sqr_crit, stop=10, num=100)\n",
    "\n",
    "my_pdf_crit = stats.chi2.pdf(my_linspace_crit, 2)\n",
    "\n",
    "fig, ax = plt.subplots(figsize=(10, 6))\n",
    "ax.plot(my_linspace, my_pdf, linewidth=2)\n",
    "\n",
    "crit_label = 'Critical Value = ' + '{0:.3f}'.format(chi_sqr_crit)\n",
    "\n",
    "ax.fill_between(my_linspace_crit, 0, my_pdf_crit, facecolor='red', label=crit_label)\n",
    "\n",
    "ts = normaltest_results_df.loc['Test Statistic'][0]\n",
    "ts_y = stats.chi2.pdf(ts, 2)\n",
    "ts_label = 'Test Statistic = ' + '{0:.3f}'.format(ts)\n",
    "ax.plot([ts, ts], [0, ts_y], 'k--', linewidth=2, label=ts_label)\n",
    "\n",
    "sns.set_style(\"darkgrid\")   \n",
    "plt.xlabel('$x$')\n",
    "plt.ylabel('$f(x)$')\n",
    "\n",
    "plt.title('PDF of ${\\chi}_{k=2}^2$')\n",
    "# k: degrees of freedom\n",
    "\n",
    "\n",
    "ax.annotate(crit_label, \n",
    "            xy=(chi_sqr_crit, stats.chi2.pdf(chi_sqr_crit, 2)), \n",
    "            xytext=(chi_sqr_crit, 0.3), \n",
    "            arrowprops=dict(facecolor='k', \n",
    "                            width=1,\n",
    "                            headwidth=7.5,\n",
    "                            shrink=0.1))\n",
    "\n",
    "ax.annotate(ts_label, \n",
    "            xy=(ts, ts_y), \n",
    "            xytext=(ts, 0.4), \n",
    "            arrowprops=dict(facecolor='k', \n",
    "                            width=1,\n",
    "                            headwidth=7.5,\n",
    "                            shrink=0.1))\n",
    "\n",
    "annotations = [child for child in ax.get_children() \n",
    "               if isinstance(child, matplotlib.text.Annotation)]\n",
    "\n",
    "for item in ([ax.title, ax.xaxis.label, ax.yaxis.label] + annotations + \n",
    "             ax.get_xticklabels() + ax.get_yticklabels()):\n",
    "    item.set_fontsize(14)\n",
    "    \n",
    "plt.show()"
   ]
  },
  {
   "cell_type": "markdown",
   "metadata": {
    "collapsed": true
   },
   "source": [
    "We cannot reject the null-hypothesis, and we conclude that the population may be normally distributed."
   ]
  },
  {
   "cell_type": "markdown",
   "metadata": {
    "collapsed": true
   },
   "source": [
    "\n",
    "## 2. Is the sample size large? Are the observations independent?\n",
    "\n",
    "Remember that this is a condition for the CLT, and hence the statistical tests we are using, to apply. \n",
    "\n"
   ]
  },
  {
   "cell_type": "markdown",
   "metadata": {
    "collapsed": true
   },
   "source": [
    "???"
   ]
  },
  {
   "cell_type": "markdown",
   "metadata": {
    "collapsed": true
   },
   "source": [
    "http://www.itl.nist.gov/div898/handbook/prc/section2/prc222.htm"
   ]
  },
  {
   "cell_type": "markdown",
   "metadata": {
    "collapsed": true
   },
   "source": [
    "n >= ((z*sigma)/MOE)**2"
   ]
  },
  {
   "cell_type": "markdown",
   "metadata": {},
   "source": [
    ".....\n",
    "$\\delta = \\sigma/N$ = "
   ]
  },
  {
   "cell_type": "code",
   "execution_count": 15,
   "metadata": {},
   "outputs": [
    {
     "data": {
      "text/plain": [
       "count    130.000000\n",
       "mean      98.249231\n",
       "std        0.733183\n",
       "min       96.300000\n",
       "25%       97.800000\n",
       "50%       98.300000\n",
       "75%       98.700000\n",
       "max      100.800000\n",
       "Name: temperature, dtype: float64"
      ]
     },
     "execution_count": 15,
     "metadata": {},
     "output_type": "execute_result"
    }
   ],
   "source": [
    "tmp.describe()"
   ]
  },
  {
   "cell_type": "code",
   "execution_count": 16,
   "metadata": {},
   "outputs": [
    {
     "data": {
      "text/plain": [
       "2.5758293035489008"
      ]
     },
     "execution_count": 16,
     "metadata": {},
     "output_type": "execute_result"
    }
   ],
   "source": [
    "me = 0.5\n",
    "sigma = tmp.std()\n",
    "alpha = 0.01\n",
    "\n",
    "#Z_(alpha/2)\n",
    "stats.norm.isf(alpha/2)"
   ]
  },
  {
   "cell_type": "code",
   "execution_count": 17,
   "metadata": {},
   "outputs": [
    {
     "data": {
      "text/plain": [
       "86"
      ]
     },
     "execution_count": 17,
     "metadata": {},
     "output_type": "execute_result"
    }
   ],
   "source": [
    "me = 0.50\n",
    "sigma = 1.8\n",
    "alpha = 0.01\n",
    "\n",
    "#Z_(alpha/2)\n",
    "z = stats.norm.isf(alpha/2)\n",
    "\n",
    "n = math.ceil(((z ** 2) * (sigma ** 2)) / (me ** 2))\n",
    "n"
   ]
  },
  {
   "cell_type": "code",
   "execution_count": 18,
   "metadata": {
    "collapsed": true
   },
   "outputs": [],
   "source": [
    "def sample_size(me=None, sigma=None, alpha=None):\n",
    "    z = stats.norm.isf(alpha/2)\n",
    "    n = math.ceil(((z ** 2) * (sigma ** 2)) / (me ** 2))\n",
    "    return n"
   ]
  },
  {
   "cell_type": "code",
   "execution_count": 19,
   "metadata": {},
   "outputs": [
    {
     "data": {
      "text/plain": [
       "86"
      ]
     },
     "execution_count": 19,
     "metadata": {},
     "output_type": "execute_result"
    }
   ],
   "source": [
    "me = 0.50\n",
    "sigma = 1.8\n",
    "alpha = 0.01\n",
    "\n",
    "sample_size(me=me, sigma=sigma, alpha=alpha)\n",
    "\n"
   ]
  },
  {
   "cell_type": "code",
   "execution_count": 20,
   "metadata": {},
   "outputs": [
    {
     "data": {
      "text/plain": [
       "count    130.000000\n",
       "mean      98.249231\n",
       "std        0.733183\n",
       "min       96.300000\n",
       "25%       97.800000\n",
       "50%       98.300000\n",
       "75%       98.700000\n",
       "max      100.800000\n",
       "Name: temperature, dtype: float64"
      ]
     },
     "execution_count": 20,
     "metadata": {},
     "output_type": "execute_result"
    }
   ],
   "source": [
    "tmp.describe()"
   ]
  },
  {
   "cell_type": "code",
   "execution_count": 21,
   "metadata": {},
   "outputs": [
    {
     "data": {
      "text/plain": [
       "9"
      ]
     },
     "execution_count": 21,
     "metadata": {},
     "output_type": "execute_result"
    }
   ],
   "source": [
    "me = 0.5\n",
    "sigma = tmp.std() \n",
    "alpha = 0.05\n",
    "\n",
    "sample_size(me=me, sigma=sigma, alpha=alpha)\n",
    "\n"
   ]
  },
  {
   "cell_type": "code",
   "execution_count": 22,
   "metadata": {
    "collapsed": true
   },
   "outputs": [],
   "source": [
    "# source:\n",
    "# https://www.safaribooksonline.com/library/view/python-cookbook-2nd/0596007973/ch19s02.html\n",
    "\n",
    "def frange(start, end=None, inc=1.0):\n",
    "    \"An xrange-like generator which yields float values\"\n",
    "    # imitate range/xrange strange assignment of argument meanings\n",
    "    if end is None:\n",
    "        end = start + 0.0     # Ensure a float value for 'end'\n",
    "        start = 0.0\n",
    "    assert inc                # sanity check\n",
    "    for i in itertools.count( ):\n",
    "        next = start + i * inc\n",
    "        if (inc>0.0 and next>=end) or (inc<0.0 and next<=end):\n",
    "            break\n",
    "        yield next"
   ]
  },
  {
   "cell_type": "code",
   "execution_count": 23,
   "metadata": {},
   "outputs": [
    {
     "data": {
      "text/plain": [
       "[0.5, 0.4, 0.3, 0.2, 0.1]"
      ]
     },
     "execution_count": 23,
     "metadata": {},
     "output_type": "execute_result"
    }
   ],
   "source": [
    "me_rows = [round(x, 1) for x in frange(0.5, 0, -0.1)]\n",
    "me_rows"
   ]
  },
  {
   "cell_type": "code",
   "execution_count": 24,
   "metadata": {},
   "outputs": [
    {
     "data": {
      "text/plain": [
       "[0.1, 0.05, 0.01]"
      ]
     },
     "execution_count": 24,
     "metadata": {},
     "output_type": "execute_result"
    }
   ],
   "source": [
    "alpha_columns = [0.10, 0.05, 0.01]\n",
    "alpha_columns"
   ]
  },
  {
   "cell_type": "code",
   "execution_count": 25,
   "metadata": {},
   "outputs": [
    {
     "data": {
      "text/html": [
       "<div>\n",
       "<style>\n",
       "    .dataframe thead tr:only-child th {\n",
       "        text-align: right;\n",
       "    }\n",
       "\n",
       "    .dataframe thead th {\n",
       "        text-align: left;\n",
       "    }\n",
       "\n",
       "    .dataframe tbody tr th {\n",
       "        vertical-align: top;\n",
       "    }\n",
       "</style>\n",
       "<table border=\"1\" class=\"dataframe\">\n",
       "  <thead>\n",
       "    <tr style=\"text-align: right;\">\n",
       "      <th>alpha</th>\n",
       "      <th>0.1</th>\n",
       "      <th>0.05</th>\n",
       "      <th>0.01</th>\n",
       "    </tr>\n",
       "    <tr>\n",
       "      <th>Margin of Error \n",
       "(degrees F)</th>\n",
       "      <th></th>\n",
       "      <th></th>\n",
       "      <th></th>\n",
       "    </tr>\n",
       "  </thead>\n",
       "  <tbody>\n",
       "    <tr>\n",
       "      <th>0.5</th>\n",
       "      <td>6.0</td>\n",
       "      <td>9.0</td>\n",
       "      <td>15.0</td>\n",
       "    </tr>\n",
       "    <tr>\n",
       "      <th>0.4</th>\n",
       "      <td>10.0</td>\n",
       "      <td>13.0</td>\n",
       "      <td>23.0</td>\n",
       "    </tr>\n",
       "    <tr>\n",
       "      <th>0.3</th>\n",
       "      <td>17.0</td>\n",
       "      <td>23.0</td>\n",
       "      <td>40.0</td>\n",
       "    </tr>\n",
       "    <tr>\n",
       "      <th>0.2</th>\n",
       "      <td>37.0</td>\n",
       "      <td>52.0</td>\n",
       "      <td>90.0</td>\n",
       "    </tr>\n",
       "    <tr>\n",
       "      <th>0.1</th>\n",
       "      <td>146.0</td>\n",
       "      <td>207.0</td>\n",
       "      <td>357.0</td>\n",
       "    </tr>\n",
       "  </tbody>\n",
       "</table>\n",
       "</div>"
      ],
      "text/plain": [
       "alpha                           0.10   0.05   0.01\n",
       "Margin of Error \\n(degrees F)                     \n",
       "0.5                              6.0    9.0   15.0\n",
       "0.4                             10.0   13.0   23.0\n",
       "0.3                             17.0   23.0   40.0\n",
       "0.2                             37.0   52.0   90.0\n",
       "0.1                            146.0  207.0  357.0"
      ]
     },
     "execution_count": 25,
     "metadata": {},
     "output_type": "execute_result"
    }
   ],
   "source": [
    "me_rows = [round(x, 1) for x in frange(0.5, 0, -0.1)]\n",
    "alpha_columns = [0.10, 0.05, 0.01]\n",
    "\n",
    "a = np.empty((len(me_rows),len(alpha_columns)))\n",
    "a[:] = np.NAN\n",
    "\n",
    "sigma = tmp.std() \n",
    "\n",
    "for i, r in enumerate(me_rows):\n",
    "    for j, c in enumerate(alpha_columns):\n",
    "        a[(i, j)] = sample_size(me=r, sigma=sigma, alpha=c)\n",
    "\n",
    "my_df = pd.DataFrame(data=a,\n",
    "                     columns=alpha_columns, \n",
    "                     index=me_rows)\n",
    "\n",
    "my_df.index.rename('Margin of Error \\n(degrees F)', inplace=True)\n",
    "my_df.columns.rename(name='alpha', inplace=True)\n",
    "my_df"
   ]
  },
  {
   "cell_type": "code",
   "execution_count": 26,
   "metadata": {},
   "outputs": [
    {
     "data": {
      "text/plain": [
       "130"
      ]
     },
     "execution_count": 26,
     "metadata": {},
     "output_type": "execute_result"
    }
   ],
   "source": [
    "tmp.size"
   ]
  },
  {
   "cell_type": "code",
   "execution_count": null,
   "metadata": {
    "collapsed": true
   },
   "outputs": [],
   "source": []
  },
  {
   "cell_type": "code",
   "execution_count": null,
   "metadata": {
    "collapsed": true
   },
   "outputs": [],
   "source": []
  },
  {
   "cell_type": "code",
   "execution_count": null,
   "metadata": {
    "collapsed": true
   },
   "outputs": [],
   "source": []
  },
  {
   "cell_type": "code",
   "execution_count": null,
   "metadata": {
    "collapsed": true
   },
   "outputs": [],
   "source": []
  },
  {
   "cell_type": "code",
   "execution_count": null,
   "metadata": {
    "collapsed": true
   },
   "outputs": [],
   "source": []
  },
  {
   "cell_type": "code",
   "execution_count": null,
   "metadata": {
    "collapsed": true
   },
   "outputs": [],
   "source": []
  },
  {
   "cell_type": "code",
   "execution_count": 27,
   "metadata": {},
   "outputs": [
    {
     "data": {
      "text/plain": [
       "16"
      ]
     },
     "execution_count": 27,
     "metadata": {},
     "output_type": "execute_result"
    }
   ],
   "source": [
    "def function(delta=None , variance=None, alpha=0.05):\n",
    "    N = math.ceil(((1.96 / delta) ** 2) * variance)\n",
    "    return N\n",
    "\n",
    "delta = 0.5\n",
    "variance = 1\n",
    "alpha = 0.01\n",
    "function(delta, variance, alpha)"
   ]
  },
  {
   "cell_type": "code",
   "execution_count": 28,
   "metadata": {},
   "outputs": [
    {
     "name": "stdout",
     "output_type": "stream",
     "text": [
      "5\n"
     ]
    }
   ],
   "source": [
    "print(math.ceil(4.2))"
   ]
  },
  {
   "cell_type": "markdown",
   "metadata": {
    "collapsed": true
   },
   "source": [
    "N=(t1−α/2+t1−β)2(s/δ)2→two−sidedtest\n",
    "\n",
    "The quantities t1−α/2 and t1−β are critical values from the t distribution. "
   ]
  },
  {
   "cell_type": "code",
   "execution_count": 29,
   "metadata": {},
   "outputs": [
    {
     "data": {
      "text/plain": [
       "11"
      ]
     },
     "execution_count": 29,
     "metadata": {},
     "output_type": "execute_result"
    }
   ],
   "source": [
    "alpha = 0.05\n",
    "beta = 0.10\n",
    "N_start = 10\n",
    "df_t = (N_start - 1)\n",
    "\n",
    "# one-sided\n",
    "math.ceil((stats.t.isf((alpha), df=df_t) + stats.t.isf(beta, df=df_t)) ** 2)"
   ]
  },
  {
   "cell_type": "code",
   "execution_count": 30,
   "metadata": {},
   "outputs": [
    {
     "data": {
      "text/plain": [
       "0.5375575432319613"
      ]
     },
     "execution_count": 30,
     "metadata": {},
     "output_type": "execute_result"
    }
   ],
   "source": [
    "tmp.var()"
   ]
  },
  {
   "cell_type": "code",
   "execution_count": 31,
   "metadata": {},
   "outputs": [
    {
     "data": {
      "text/plain": [
       "0.7331831580389454"
      ]
     },
     "execution_count": 31,
     "metadata": {},
     "output_type": "execute_result"
    }
   ],
   "source": [
    "tmp.std()"
   ]
  },
  {
   "cell_type": "code",
   "execution_count": 32,
   "metadata": {},
   "outputs": [
    {
     "data": {
      "text/plain": [
       "0.5375575432319611"
      ]
     },
     "execution_count": 32,
     "metadata": {},
     "output_type": "execute_result"
    }
   ],
   "source": [
    "tmp.std() ** 2"
   ]
  },
  {
   "cell_type": "code",
   "execution_count": null,
   "metadata": {
    "collapsed": true
   },
   "outputs": [],
   "source": []
  },
  {
   "cell_type": "code",
   "execution_count": 33,
   "metadata": {
    "collapsed": true
   },
   "outputs": [],
   "source": [
    "alpha = 0.05\n",
    "beta = 0.10\n",
    "sided = 1\n",
    "N_start = 10\n",
    "\n",
    "df_t = (N_start - 1)\n",
    "\n",
    "def my_function(alpha, beta, sided, N_start):\n",
    "    if sided not in [1, 2]:\n",
    "        # Create error message\n",
    "        print('\"sided\" must equal 1 or 2')\n",
    "    else:\n",
    "        N = N_start\n",
    "        df = (N - 1)\n",
    "        a_crit = stats.t.isf((alpha / int(sided)), df=df)\n",
    "        b_crit = stats.t.isf(beta, df=df)\n",
    "        \n",
    "        output = math.ceil((a_crit + b_crit) ** 2)\n",
    "        return output\n",
    "# one-sided\n",
    "#math.ceil((a_crit + b_crit) ** 2)"
   ]
  },
  {
   "cell_type": "code",
   "execution_count": 34,
   "metadata": {},
   "outputs": [
    {
     "data": {
      "text/plain": [
       "11"
      ]
     },
     "execution_count": 34,
     "metadata": {},
     "output_type": "execute_result"
    }
   ],
   "source": [
    "my_function(alpha, beta, 1, N_start)"
   ]
  },
  {
   "cell_type": "code",
   "execution_count": 35,
   "metadata": {},
   "outputs": [
    {
     "name": "stdout",
     "output_type": "stream",
     "text": [
      "36\n"
     ]
    }
   ],
   "source": [
    "alpha = 0.05\n",
    "beta = 0.10\n",
    "sided = 1\n",
    "N_start = 10\n",
    "\n",
    "df_t = (N_start - 1)\n",
    "\n",
    "def my_function(alpha, beta, sided, N_start):\n",
    "    if sided not in [1, 2]:\n",
    "        # Create error message\n",
    "        print('\"sided\" must equal 1 or 2')\n",
    "    else:\n",
    "\n",
    "        # initialize\n",
    "        N_0 = N_start\n",
    "        N_1 = None\n",
    "        continue_loop = True\n",
    "        \n",
    "#        while (N_0 != N_1):\n",
    "        while (continue_loop):\n",
    "            \n",
    "            df = (N_0 - 1)\n",
    "            \n",
    "            a_crit = stats.t.isf((alpha / int(sided)), df=df)\n",
    "            b_crit = stats.t.isf(beta, df=df)\n",
    "\n",
    "            #output = math.ceil((a_crit + b_crit) ** 2)\n",
    "#            output = math.ceil(((a_crit + b_crit) ** 2) * ((1 / 0.5) ** 2))\n",
    "            output = math.ceil(((a_crit + b_crit) ** 2) * ((1 / 0.5) ** 2))\n",
    "             \n",
    "            N_1 = output\n",
    "            if (N_0 < N_1):\n",
    "                continue_loop = False\n",
    "            else:\n",
    "                continue_loop = True\n",
    "            \n",
    "            N_0 = N_1\n",
    "            \n",
    "            print(output)\n",
    "            #return output\n",
    "            return None\n",
    "\n",
    "alpha = 0.05\n",
    "beta = 0.10\n",
    "sided = 1\n",
    "N_start = 36\n",
    "\n",
    "my_function(alpha, beta, sided, N_start)"
   ]
  },
  {
   "cell_type": "code",
   "execution_count": 36,
   "metadata": {},
   "outputs": [
    {
     "name": "stdout",
     "output_type": "stream",
     "text": [
      "75\n"
     ]
    }
   ],
   "source": [
    "alpha = 0.01\n",
    "beta = 0.05\n",
    "sided = 2\n",
    "N_start = 75\n",
    "\n",
    "my_function(alpha, beta, sided, N_start)"
   ]
  },
  {
   "cell_type": "code",
   "execution_count": null,
   "metadata": {
    "collapsed": true
   },
   "outputs": [],
   "source": []
  },
  {
   "cell_type": "code",
   "execution_count": null,
   "metadata": {
    "collapsed": true
   },
   "outputs": [],
   "source": []
  },
  {
   "cell_type": "code",
   "execution_count": null,
   "metadata": {
    "collapsed": true
   },
   "outputs": [],
   "source": []
  },
  {
   "cell_type": "code",
   "execution_count": null,
   "metadata": {
    "collapsed": true
   },
   "outputs": [],
   "source": []
  },
  {
   "cell_type": "code",
   "execution_count": 37,
   "metadata": {},
   "outputs": [
    {
     "name": "stdout",
     "output_type": "stream",
     "text": [
      "11\n"
     ]
    }
   ],
   "source": [
    "alpha = 0.05\n",
    "beta = 0.10\n",
    "sided = 1\n",
    "N_start = 10\n",
    "\n",
    "df_t = (N_start - 1)\n",
    "\n",
    "def my_function(alpha, beta, sided, N_start):\n",
    "    if sided not in [1, 2]:\n",
    "        # Create error message\n",
    "        print('\"sided\" must equal 1 or 2')\n",
    "    else:\n",
    "\n",
    "        N_0 = N_start\n",
    "        N_1 = None\n",
    "        \n",
    "        while (N_0 != N_1):\n",
    "            \n",
    "            df = (N_0 - 1)\n",
    "            \n",
    "            a_crit = stats.t.isf((alpha / int(sided)), df=df)\n",
    "            b_crit = stats.t.isf(beta, df=df)\n",
    "\n",
    "            output = math.ceil((a_crit + b_crit) ** 2)\n",
    "            \n",
    "            N_1 = output\n",
    "            \n",
    "            N_0 = N_1\n",
    "            \n",
    "            print(output)\n",
    "            #return output\n",
    "            return None\n",
    "\n",
    "alpha = 0.05\n",
    "beta = 0.10\n",
    "sided = 1\n",
    "N_start = 10\n",
    "\n",
    "my_function(alpha, beta, sided, N_start)"
   ]
  },
  {
   "cell_type": "code",
   "execution_count": 38,
   "metadata": {
    "collapsed": true
   },
   "outputs": [],
   "source": [
    "alpha = 0.05\n",
    "beta = 0.10\n",
    "sided = 1\n",
    "N_start = 10\n",
    "\n",
    "#my_function(alpha, beta, sided, N_start)"
   ]
  },
  {
   "cell_type": "code",
   "execution_count": null,
   "metadata": {
    "collapsed": true
   },
   "outputs": [],
   "source": []
  },
  {
   "cell_type": "code",
   "execution_count": 39,
   "metadata": {},
   "outputs": [
    {
     "name": "stdout",
     "output_type": "stream",
     "text": [
      "\"sided\" must equal 1 or 2\n"
     ]
    }
   ],
   "source": [
    "my_function(alpha, beta, 134, N_start)"
   ]
  },
  {
   "cell_type": "code",
   "execution_count": null,
   "metadata": {
    "collapsed": true
   },
   "outputs": [],
   "source": []
  },
  {
   "cell_type": "code",
   "execution_count": null,
   "metadata": {
    "collapsed": true
   },
   "outputs": [],
   "source": []
  },
  {
   "cell_type": "code",
   "execution_count": null,
   "metadata": {
    "collapsed": true
   },
   "outputs": [],
   "source": []
  },
  {
   "cell_type": "code",
   "execution_count": 40,
   "metadata": {},
   "outputs": [
    {
     "data": {
      "text/plain": [
       "2.262157162740992"
      ]
     },
     "execution_count": 40,
     "metadata": {},
     "output_type": "execute_result"
    }
   ],
   "source": [
    "t_crit_twosided = stats.t.isf((alpha/2), df=df_t)\n",
    "t_crit_twosided"
   ]
  },
  {
   "cell_type": "code",
   "execution_count": null,
   "metadata": {
    "collapsed": true
   },
   "outputs": [],
   "source": []
  },
  {
   "cell_type": "code",
   "execution_count": null,
   "metadata": {
    "collapsed": true
   },
   "outputs": [],
   "source": []
  },
  {
   "cell_type": "code",
   "execution_count": null,
   "metadata": {
    "collapsed": true
   },
   "outputs": [],
   "source": []
  },
  {
   "cell_type": "code",
   "execution_count": null,
   "metadata": {
    "collapsed": true
   },
   "outputs": [],
   "source": []
  },
  {
   "cell_type": "code",
   "execution_count": null,
   "metadata": {
    "collapsed": true
   },
   "outputs": [],
   "source": []
  },
  {
   "cell_type": "code",
   "execution_count": null,
   "metadata": {
    "collapsed": true
   },
   "outputs": [],
   "source": []
  },
  {
   "cell_type": "markdown",
   "metadata": {
    "collapsed": true
   },
   "source": [
    "# ....."
   ]
  },
  {
   "cell_type": "code",
   "execution_count": 41,
   "metadata": {},
   "outputs": [
    {
     "name": "stdout",
     "output_type": "stream",
     "text": [
      "Sample skewness:  -0.004367976879081625\n",
      "Sample kurtosis :  0.7049597854114693\n"
     ]
    }
   ],
   "source": [
    "actual_skewness = stats.skew(tmp)\n",
    "actual_kurtosis = stats.kurtosis(tmp)\n",
    "print('Sample skewness: ', actual_skewness)\n",
    "print('Sample kurtosis : ', actual_kurtosis)"
   ]
  },
  {
   "cell_type": "code",
   "execution_count": 42,
   "metadata": {
    "collapsed": true
   },
   "outputs": [],
   "source": [
    "# Simulate by resampling with replacement"
   ]
  },
  {
   "cell_type": "code",
   "execution_count": 43,
   "metadata": {
    "collapsed": true
   },
   "outputs": [],
   "source": [
    "def simulate_skew_and_kurt(data=None, iters=1000):\n",
    "    \"\"\"Run the model of the null hypothesis.\n",
    "\n",
    "    returns: simulated data\n",
    "    \"\"\"\n",
    "    \n",
    "    data_np = np.array(data)\n",
    "    n = len(data)\n",
    "    \n",
    "    data_skewness = np.zeros((iters,))\n",
    "    data_kurtosis = np.empty((iters,))\n",
    "\n",
    "    for i in range(iters):\n",
    "        data_np = np.random.choice(data,\n",
    "                         size=n,\n",
    "                         replace=True)\n",
    "        \n",
    "        data_skewness[i] = np.array(stats.skew(data_np)) \n",
    "        data_kurtosis[i] = np.array(stats.kurtosis(data_np))\n",
    "        \n",
    "    return data_skewness, data_kurtosis"
   ]
  },
  {
   "cell_type": "code",
   "execution_count": 44,
   "metadata": {
    "collapsed": true
   },
   "outputs": [],
   "source": [
    "data_skewness, data_kurtosis = simulate_skew_and_kurt(tmp, iters=10000)\n",
    "\n",
    "pvalue_skew = sum(data_skewness >= actual_skewness) / len(data_skewness)\n",
    "\n",
    "pvalue_kurt = sum(data_kurtosis >= actual_kurtosis) / len(data_kurtosis)\n",
    "\n",
    "pvalue_skew_kurt = sum((data_skewness >= actual_skewness) & \n",
    "                       (data_kurtosis >= actual_kurtosis)) / len(data_skewness)"
   ]
  },
  {
   "cell_type": "code",
   "execution_count": 45,
   "metadata": {},
   "outputs": [
    {
     "data": {
      "text/plain": [
       "(0.47149999999999997, 0.42220000000000002, 0.31909999999999999)"
      ]
     },
     "execution_count": 45,
     "metadata": {},
     "output_type": "execute_result"
    }
   ],
   "source": [
    "pvalue_skew, pvalue_kurt, pvalue_skew_kurt"
   ]
  },
  {
   "cell_type": "code",
   "execution_count": 46,
   "metadata": {},
   "outputs": [
    {
     "data": {
      "text/plain": [
       "<matplotlib.axes._subplots.AxesSubplot at 0x10bbe1668>"
      ]
     },
     "execution_count": 46,
     "metadata": {},
     "output_type": "execute_result"
    },
    {
     "data": {
      "image/png": "[encoded data removed]",
      "text/plain": [
       "<matplotlib.figure.Figure at 0x10bc58b00>"
      ]
     },
     "metadata": {},
     "output_type": "display_data"
    }
   ],
   "source": [
    "sns.distplot(data_skewness, bins=20)"
   ]
  },
  {
   "cell_type": "code",
   "execution_count": 47,
   "metadata": {},
   "outputs": [
    {
     "data": {
      "text/plain": [
       "<matplotlib.axes._subplots.AxesSubplot at 0x10be10400>"
      ]
     },
     "execution_count": 47,
     "metadata": {},
     "output_type": "execute_result"
    },
    {
     "data": {
      "image/png": "[encoded data removed]",
      "text/plain": [
       "<matplotlib.figure.Figure at 0x10bc58a90>"
      ]
     },
     "metadata": {},
     "output_type": "display_data"
    }
   ],
   "source": [
    "sns.distplot(data_kurtosis, bins=20)"
   ]
  },
  {
   "cell_type": "code",
   "execution_count": null,
   "metadata": {
    "collapsed": true
   },
   "outputs": [],
   "source": []
  },
  {
   "cell_type": "code",
   "execution_count": null,
   "metadata": {
    "collapsed": true
   },
   "outputs": [],
   "source": []
  },
  {
   "cell_type": "code",
   "execution_count": 48,
   "metadata": {},
   "outputs": [
    {
     "data": {
      "image/png": "[encoded data removed]",
      "text/plain": [
       "<matplotlib.figure.Figure at 0x10bfd7fd0>"
      ]
     },
     "metadata": {},
     "output_type": "display_data"
    }
   ],
   "source": [
    "ax = sns.regplot(x=df.heart_rate, y=df.temperature, color=\"g\")"
   ]
  },
  {
   "cell_type": "code",
   "execution_count": null,
   "metadata": {
    "collapsed": true
   },
   "outputs": [],
   "source": []
  },
  {
   "cell_type": "code",
   "execution_count": null,
   "metadata": {
    "collapsed": true
   },
   "outputs": [],
   "source": []
  },
  {
   "cell_type": "markdown",
   "metadata": {},
   "source": [
    "## 3.  Is the true population mean really 98.6 degrees F?\n",
    "\n",
    "+ 3.1 Would you use a one-sample or two-sample test? Why?\n",
    "+ 3.2 In this situation, is it appropriate to use the $t$ or $z$ statistic? \n",
    "+ 3.3 Now try using the other test. How is the result be different? Why?\n"
   ]
  },
  {
   "cell_type": "markdown",
   "metadata": {},
   "source": [
    "### 3.1 Would you use a one-sample or two-sample test? Why?\n",
    "\n",
    "To test if the true population mean is equal to a specific value (*namely*, 98.6 degrees Fahrenheit), one would use a two-tailed, one-sample test.\n",
    "\n",
    "The test that the mean for a sample is equal to a specified value can be formulated as follows:\n",
    "\n",
    "+ $H_0$: \t$\\mu =$ [specific value]\n",
    "+ $H_1$: \t$\\mu \\neq$ [specific value]\n",
    "\n",
    "A two-sample test would used to determine if two population means are equal (*e.g.*, to test if the population mean for men is equal to the population mean for women).  Therefore,two-sample test is not appropriate for this problem (testing whether or not the true population mean is equal to 98.6 degrees Fahrenheit).\n",
    "\n",
    "References:\n",
    "+ http://www.itl.nist.gov/div898/handbook/eda/section3/eda353.htm\n",
    "+ http://www.itl.nist.gov/div898/software/dataplot/refman1/auxillar/t_test.htm\n",
    "+ http://www.statisticssolutions.com/manova-analysis-one-sample-t-test/"
   ]
  },
  {
   "cell_type": "markdown",
   "metadata": {},
   "source": [
    "### 3.2 In this situation, is it appropriate to use the $t$ or $z$ statistic? \n",
    "\n",
    "\n",
    "A t-test is used for testing the mean of one population against a standard or comparing the means of two populations if you do not know the populations' standard deviation and when you have a limited sample (n < 30). \n",
    "\n",
    "If you know the populations' standard deviation, you may use a z-test.\n",
    "\n",
    "References:\n",
    "+ https://www.linkedin.com/pulse/z-test-vs-t-test-arunmozhi-ilango/\n",
    "+ https://docs.scipy.org/doc/scipy/reference/tutorial/stats.html"
   ]
  },
  {
   "cell_type": "code",
   "execution_count": 86,
   "metadata": {},
   "outputs": [
    {
     "data": {
      "text/html": [
       "<div>\n",
       "<style>\n",
       "    .dataframe thead tr:only-child th {\n",
       "        text-align: right;\n",
       "    }\n",
       "\n",
       "    .dataframe thead th {\n",
       "        text-align: left;\n",
       "    }\n",
       "\n",
       "    .dataframe tbody tr th {\n",
       "        vertical-align: top;\n",
       "    }\n",
       "</style>\n",
       "<table border=\"1\" class=\"dataframe\">\n",
       "  <thead>\n",
       "    <tr style=\"text-align: right;\">\n",
       "      <th></th>\n",
       "      <th>t-statistic</th>\n",
       "      <th>two-tailed p-value</th>\n",
       "    </tr>\n",
       "  </thead>\n",
       "  <tbody>\n",
       "    <tr>\n",
       "      <th>0</th>\n",
       "      <td>-5.454823</td>\n",
       "      <td>2.410632e-07</td>\n",
       "    </tr>\n",
       "  </tbody>\n",
       "</table>\n",
       "</div>"
      ],
      "text/plain": [
       "   t-statistic  two-tailed p-value\n",
       "0    -5.454823        2.410632e-07"
      ]
     },
     "execution_count": 86,
     "metadata": {},
     "output_type": "execute_result"
    }
   ],
   "source": [
    "# Set popmean: expected value in null hypothesis\n",
    "popmean = 98.6\n",
    "\n",
    "# T-test\n",
    "t_test_results = stats.ttest_1samp(df.temperature, popmean=popmean)\n",
    "\n",
    "temp_dict = {'t-statistic': [t_test_results[0]],\n",
    "             'two-tailed p-value': [t_test_results[1]]}\n",
    "\n",
    "t_test_results_df = pd.DataFrame.from_dict(temp_dict)\n",
    "t_test_results_df"
   ]
  },
  {
   "cell_type": "code",
   "execution_count": 93,
   "metadata": {},
   "outputs": [
    {
     "name": "stdout",
     "output_type": "stream",
     "text": [
      "Reject  $H_0$\n"
     ]
    }
   ],
   "source": [
    "if t_test_results_df['two-tailed p-value'].values[0] < alpha:\n",
    "    print('Reject  $H_0$')\n",
    "else:\n",
    "    print('Cannot reject  $H_0$')"
   ]
  },
  {
   "cell_type": "markdown",
   "metadata": {},
   "source": [
    "We can reject the null hypothesis that the population mean equal 98.6 degrees, since the p-value is below 5%"
   ]
  },
  {
   "cell_type": "code",
   "execution_count": 95,
   "metadata": {},
   "outputs": [
    {
     "data": {
      "text/plain": [
       "98.24923076923078"
      ]
     },
     "execution_count": 95,
     "metadata": {},
     "output_type": "execute_result"
    }
   ],
   "source": [
    "df.temperature.mean()"
   ]
  },
  {
   "cell_type": "markdown",
   "metadata": {},
   "source": [
    "When we calculate the mean temperature from our data, we get a point estimate of 98.25"
   ]
  },
  {
   "cell_type": "markdown",
   "metadata": {
    "collapsed": true
   },
   "source": [
    "### 3.3 Now try using the other test. How is the result be different? Why?"
   ]
  },
  {
   "cell_type": "code",
   "execution_count": null,
   "metadata": {
    "collapsed": true
   },
   "outputs": [],
   "source": []
  },
  {
   "cell_type": "code",
   "execution_count": 96,
   "metadata": {
    "collapsed": true
   },
   "outputs": [],
   "source": [
    "?stats.zscore"
   ]
  },
  {
   "cell_type": "code",
   "execution_count": null,
   "metadata": {
    "collapsed": true
   },
   "outputs": [],
   "source": []
  },
  {
   "cell_type": "code",
   "execution_count": null,
   "metadata": {
    "collapsed": true
   },
   "outputs": [],
   "source": [
    "# Set popmean: expected value in null hypothesis\n",
    "popmean = 98.6\n",
    "\n",
    "# Z-test\n",
    "z_test_results = stats.ttest_1samp(df.temperature, popmean=popmean)\n",
    "\n",
    "temp_dict = {'z-statistic': [z_test_results[0]],\n",
    "             'two-tailed p-value': [z_test_results[1]]}\n",
    "\n",
    "z_test_results_df = pd.DataFrame.from_dict(temp_dict)\n",
    "z_test_results_df"
   ]
  },
  {
   "cell_type": "code",
   "execution_count": null,
   "metadata": {
    "collapsed": true
   },
   "outputs": [],
   "source": []
  },
  {
   "cell_type": "code",
   "execution_count": null,
   "metadata": {
    "collapsed": true
   },
   "outputs": [],
   "source": []
  },
  {
   "cell_type": "code",
   "execution_count": null,
   "metadata": {
    "collapsed": true
   },
   "outputs": [],
   "source": []
  },
  {
   "cell_type": "code",
   "execution_count": null,
   "metadata": {
    "collapsed": true
   },
   "outputs": [],
   "source": []
  },
  {
   "cell_type": "markdown",
   "metadata": {},
   "source": [
    "## 4. At what temperature should we consider someone's temperature to be \"abnormal\"?\n",
    "\n",
    "Let us consider someone's temperature to be \"abnormal\" if the temperature is either above or below the inner-quartile range (IQR) of tempuratures.\n",
    "\n",
    "We will bootstrap pairs of the 25th and 75th percentiles, which are the bounds of the IQR.  We then calculate 95% confidence intervals around the 25th and 75th percentiles.\n",
    "\n",
    "If someone's temperature is either: \n",
    "\n",
    "+ below the 95% confidence interval around the 25th percentile, or\n",
    "+ above the 95% confidence interval around the 75th percentile\n",
    "\n",
    "then we should consider the person's temperature to be \"abnormal\"."
   ]
  },
  {
   "cell_type": "code",
   "execution_count": 97,
   "metadata": {
    "collapsed": true
   },
   "outputs": [],
   "source": [
    "from astropy.stats.funcs import bootstrap"
   ]
  },
  {
   "cell_type": "code",
   "execution_count": 118,
   "metadata": {},
   "outputs": [],
   "source": [
    "bootfunc = lambda a: np.percentile(a, [25, 75])\n",
    "\n",
    "bs_iqr = bootstrap(df.temperature.values,\n",
    "                       bootnum=10000,\n",
    "                       samples=len(df.temperature.values), \n",
    "                       bootfunc=bootfunc)"
   ]
  },
  {
   "cell_type": "code",
   "execution_count": 130,
   "metadata": {},
   "outputs": [
    {
     "data": {
      "text/plain": [
       "array([ 97.4,  97.6])"
      ]
     },
     "execution_count": 130,
     "metadata": {},
     "output_type": "execute_result"
    }
   ],
   "source": [
    "lq_ci = np.percentile(bs_iqr[:,0], [(alpha/2), 1-(alpha/2)])\n",
    "lq_ci"
   ]
  },
  {
   "cell_type": "code",
   "execution_count": 131,
   "metadata": {},
   "outputs": [
    {
     "data": {
      "text/plain": [
       "array([ 98.48749375,  98.6       ])"
      ]
     },
     "execution_count": 131,
     "metadata": {},
     "output_type": "execute_result"
    }
   ],
   "source": [
    "uq_ci = np.percentile(bs_iqr[:,1], [(alpha/2), 1-(alpha/2)])\n",
    "uq_ci"
   ]
  },
  {
   "cell_type": "code",
   "execution_count": 133,
   "metadata": {},
   "outputs": [
    {
     "data": {
      "text/plain": [
       "97.400000000000006"
      ]
     },
     "execution_count": 133,
     "metadata": {},
     "output_type": "execute_result"
    }
   ],
   "source": [
    "lq_ci.min()"
   ]
  },
  {
   "cell_type": "code",
   "execution_count": 134,
   "metadata": {},
   "outputs": [
    {
     "data": {
      "text/plain": [
       "98.599999999999994"
      ]
     },
     "execution_count": 134,
     "metadata": {},
     "output_type": "execute_result"
    }
   ],
   "source": [
    "uq_ci.max()"
   ]
  },
  {
   "cell_type": "markdown",
   "metadata": {},
   "source": [
    "If someone's temperature is either:\n",
    "\n",
    "+ below 97.4 degrees Fahrenheit (*i.e.,* the 95% confidence interval around the 25th percentile), or\n",
    "+ above 98.6 degrees Fahrenheit (*i.e.,* the 95% confidence interval around the 75th percentile)\n",
    "\n",
    "then we should consider the person's temperature to be \"abnormal\"."
   ]
  },
  {
   "cell_type": "markdown",
   "metadata": {
    "collapsed": true
   },
   "source": [
    "## 5. Is there a significant difference between males and females in normal temperature?\n",
    "\n",
    "    What test did you use and why?\n",
    "    Write a story with your conclusion in the context of the original problem. "
   ]
  },
  {
   "cell_type": "code",
   "execution_count": 49,
   "metadata": {
    "collapsed": true
   },
   "outputs": [],
   "source": [
    "# Divide the sample into body temperatures from males and females.\n",
    "tmp_m = df[df.gender == 'M'].temperature\n",
    "tmp_f = df[df.gender == 'F'].temperature"
   ]
  },
  {
   "cell_type": "code",
   "execution_count": 50,
   "metadata": {},
   "outputs": [
    {
     "data": {
      "text/plain": [
       "<matplotlib.axes._subplots.AxesSubplot at 0x10bf65860>"
      ]
     },
     "execution_count": 50,
     "metadata": {},
     "output_type": "execute_result"
    },
    {
     "data": {
      "image/png": "[encoded data removed]",
      "text/plain": [
       "<matplotlib.figure.Figure at 0x10c1051d0>"
      ]
     },
     "metadata": {},
     "output_type": "display_data"
    }
   ],
   "source": [
    "# Visualize the two sample distributions\n",
    "fig, ax = plt.subplots(figsize=(10, 6))\n",
    "sns.distplot(tmp_m, bins=20, ax=ax)\n",
    "sns.distplot(tmp_f, bins=20, ax=ax)"
   ]
  },
  {
   "cell_type": "code",
   "execution_count": 51,
   "metadata": {
    "collapsed": true
   },
   "outputs": [],
   "source": [
    "tmp_m = df[df.gender == 'M'].temperature\n",
    "tmp_f = df[df.gender == 'F'].temperature"
   ]
  },
  {
   "cell_type": "code",
   "execution_count": 52,
   "metadata": {},
   "outputs": [
    {
     "data": {
      "text/plain": [
       "65"
      ]
     },
     "execution_count": 52,
     "metadata": {},
     "output_type": "execute_result"
    }
   ],
   "source": [
    "len(tmp_m)"
   ]
  },
  {
   "cell_type": "code",
   "execution_count": 53,
   "metadata": {},
   "outputs": [
    {
     "data": {
      "text/plain": [
       "65"
      ]
     },
     "execution_count": 53,
     "metadata": {},
     "output_type": "execute_result"
    }
   ],
   "source": [
    "len(tmp_f)"
   ]
  },
  {
   "cell_type": "code",
   "execution_count": 54,
   "metadata": {
    "collapsed": true
   },
   "outputs": [],
   "source": [
    "actual_dif_mean = abs(tmp_m.mean() - tmp_f.mean())\n",
    "actual_dif_std = abs(tmp_m.std() - tmp_f.std())\n",
    "actual_dif_skew = abs(stats.skew(tmp_m) - stats.skew(tmp_f))\n",
    "actual_dif_kurtosis = abs(stats.kurtosis(tmp_m) - stats.kurtosis(tmp_f))"
   ]
  },
  {
   "cell_type": "code",
   "execution_count": null,
   "metadata": {
    "collapsed": true
   },
   "outputs": [],
   "source": []
  },
  {
   "cell_type": "code",
   "execution_count": null,
   "metadata": {
    "collapsed": true
   },
   "outputs": [],
   "source": []
  },
  {
   "cell_type": "code",
   "execution_count": null,
   "metadata": {
    "collapsed": true
   },
   "outputs": [],
   "source": []
  },
  {
   "cell_type": "code",
   "execution_count": 55,
   "metadata": {
    "collapsed": true
   },
   "outputs": [],
   "source": [
    "def simulate(data=None, iters=1000):\n",
    "    \"\"\"Run the model of the null hypothesis.\n",
    "\n",
    "    returns: simulated data\n",
    "    \"\"\"\n",
    "    \n",
    "    data_np = np.array(data)\n",
    "    n = len(data)\n",
    "    n_half = int(n/2)\n",
    "\n",
    "    data_mean = np.zeros((iters,))\n",
    "    data_std = np.zeros((iters,))\n",
    "    data_skew = np.zeros((iters,))\n",
    "    data_kurtosis = np.zeros((iters,))\n",
    "\n",
    "    for i in range(iters):\n",
    "        data_shuffle = np.random.choice(data_np,\n",
    "                         size=n,\n",
    "                         replace=True)\n",
    "        \n",
    "        group1, group2 = data_shuffle[:n_half], data_shuffle[n_half:]\n",
    "        \n",
    "        dif_mean = abs(group1.mean() - group2.mean())\n",
    "        dif_std = abs(group1.std() - group2.std())\n",
    "        dif_skew = abs(stats.skew(group1) - stats.skew(group2))\n",
    "        dif_kurtosis = abs(stats.kurtosis(group1) - stats.kurtosis(group2))\n",
    "\n",
    "        data_mean[i] = dif_mean\n",
    "        data_std[i] = dif_std\n",
    "        data_skew[i] = dif_skew\n",
    "        data_kurtosis[i] = dif_kurtosis\n",
    "        \n",
    "    output_df = pd.DataFrame([data_mean,data_std,data_skew,data_kurtosis], \n",
    "                             ['data_mean','data_std','data_skew','data_kurtosis'])\n",
    "    output_df = output_df.T\n",
    "                             \n",
    "    return output_df"
   ]
  },
  {
   "cell_type": "code",
   "execution_count": 56,
   "metadata": {
    "collapsed": true
   },
   "outputs": [],
   "source": [
    "sim = simulate(tmp)"
   ]
  },
  {
   "cell_type": "code",
   "execution_count": 57,
   "metadata": {},
   "outputs": [
    {
     "data": {
      "text/plain": [
       "<matplotlib.axes._subplots.AxesSubplot at 0x10cba0518>"
      ]
     },
     "execution_count": 57,
     "metadata": {},
     "output_type": "execute_result"
    },
    {
     "data": {
      "image/png": "[encoded data removed]",
      "text/plain": [
       "<matplotlib.figure.Figure at 0x10ccde198>"
      ]
     },
     "metadata": {},
     "output_type": "display_data"
    }
   ],
   "source": [
    "sim.data_mean.hist()"
   ]
  },
  {
   "cell_type": "code",
   "execution_count": 58,
   "metadata": {},
   "outputs": [
    {
     "data": {
      "text/plain": [
       "0.024"
      ]
     },
     "execution_count": 58,
     "metadata": {},
     "output_type": "execute_result"
    }
   ],
   "source": [
    "pvalue_mean = sum(sim.data_mean >= actual_dif_mean) / len(sim.data_mean)\n",
    "pvalue_mean"
   ]
  },
  {
   "cell_type": "code",
   "execution_count": 59,
   "metadata": {},
   "outputs": [
    {
     "data": {
      "text/plain": [
       "0.68500000000000005"
      ]
     },
     "execution_count": 59,
     "metadata": {},
     "output_type": "execute_result"
    }
   ],
   "source": [
    "pvalue_std = sum(sim.data_std >= actual_dif_std) / len(sim.data_std)\n",
    "pvalue_std"
   ]
  },
  {
   "cell_type": "code",
   "execution_count": 60,
   "metadata": {},
   "outputs": [
    {
     "data": {
      "text/plain": [
       "0.59799999999999998"
      ]
     },
     "execution_count": 60,
     "metadata": {},
     "output_type": "execute_result"
    }
   ],
   "source": [
    "pvalue_skew = sum(sim.data_skew >= actual_dif_skew) / len(sim.data_skew)\n",
    "pvalue_skew"
   ]
  },
  {
   "cell_type": "code",
   "execution_count": 61,
   "metadata": {},
   "outputs": [
    {
     "data": {
      "text/plain": [
       "0.090999999999999998"
      ]
     },
     "execution_count": 61,
     "metadata": {},
     "output_type": "execute_result"
    }
   ],
   "source": [
    "pvalue_kurtosis = sum(sim.data_kurtosis >= actual_dif_kurtosis) / len(sim.data_kurtosis)\n",
    "pvalue_kurtosis"
   ]
  },
  {
   "cell_type": "code",
   "execution_count": null,
   "metadata": {
    "collapsed": true
   },
   "outputs": [],
   "source": []
  }
 ],
 "metadata": {
  "kernelspec": {
   "display_name": "Python 3",
   "language": "python",
   "name": "python3"
  },
  "language_info": {
   "codemirror_mode": {
    "name": "ipython",
    "version": 3
   },
   "file_extension": ".py",
   "mimetype": "text/x-python",
   "name": "python",
   "nbconvert_exporter": "python",
   "pygments_lexer": "ipython3",
   "version": "3.6.1"
  }
 },
 "nbformat": 4,
 "nbformat_minor": 1
}
